{
 "cells": [
  {
   "cell_type": "code",
   "execution_count": 1,
   "metadata": {},
   "outputs": [],
   "source": [
    "# Since we will be using some functions in the numpy, matplotlib, and scipy libraries\n",
    "# we need to import them to this notebook in order to make use of them\n",
    "# A good practice is to load them in the first cell of the notebook.\n",
    "import numpy as np\n",
    "import matplotlib.pyplot as plt\n",
    "import scipy.optimize"
   ]
  },
  {
   "cell_type": "markdown",
   "metadata": {},
   "source": [
    "# Finding Roots\n",
    "\n",
    "Often we will come across some complex expression and want to find where it attains a particular value. While the methods and examples shown below are for finding where a function returns zero, you can find where a function $f(x)$ returns an arbitrary value $t$ by finding where $g(x) = f(x) - t = 0$."
   ]
  },
  {
   "cell_type": "markdown",
   "metadata": {},
   "source": [
    "## The Bisection Method\n",
    "\n",
    "This is one of the simplest and most robust methods to find the root of a function, and can be useful when dealing with functions which may not have continuous first derivatives. Convergence typically requires many more iterations than more advanced methods.\n",
    "\n",
    "Say we have a continuous function and want to find $f(a) = 0$, and we already have $x_0$ and $x_1$ such that $f(x_1)$ and $f(x_0)$ have opposite sign. Then we know there exists $f(a) = 0$ for $x_0 < a < x_1$.\n",
    "\n",
    "From here, we pick $x_2 = \\frac{x_0 + x_1}{2}$ and test the sign of $f(x_2)$. If $f(x_2)$ is of opposite sign to $f(x_0)$, then we set our new interval which contains $a$ to $x_0 < a < x_2$, while if $f(x_2)$ is of opposite sign to $f(x_1)$ our new interval is $x_2 < a < x_1$. Either way, we have halved the interval where we know $a$ exists.\n",
    "\n",
    "We can repeat this process until we know $a$ to within some arbitrary precision.\n"
   ]
  },
  {
   "cell_type": "markdown",
   "metadata": {},
   "source": [
    "### An Example\n",
    "\n",
    "As an example for finding the root of a function, let's use the Lennard Jones interatomic potential function:\n",
    "$$V_{12}(r) = \\frac{A}{r^{12}} - \\frac{B}{r^6},$$\n",
    "where $r$ is the interatomic distance and $A$ and $B$ are the coeffiients that describe the short-range repulsive $\\frac{1}{r^{12}}$ and long-range attrative $\\frac{1}{r^6}$ terms, respectively. Here we will define the parameters  $A = 1.209\\times10^5\\ \\textrm{eV Angstrom}^{12}$ and $B = 70.66\\ \\textrm{eV Angstrom}^6$. \n",
    "\n",
    "Our intent with this example function is to apply the Bisection method to find the interatomic distance $r$ where the function $V_{12}(r) = 0$, or rather the intercept or root of $V_{12}(r)$. \n",
    "\n",
    "Let's first define our function:"
   ]
  },
  {
   "cell_type": "code",
   "execution_count": 2,
   "metadata": {},
   "outputs": [],
   "source": [
    "def V(r):\n",
    "    '''Lennard-Jones Potential for Argon (eV with r in Angstrom)'''\n",
    "    return 1.209E5*r**(-12) - 70.66*r**(-6)\n"
   ]
  },
  {
   "cell_type": "markdown",
   "metadata": {},
   "source": [
    "Let's plot the the function to have a look at it. Let's use matplotlib to do this."
   ]
  },
  {
   "cell_type": "code",
   "execution_count": 3,
   "metadata": {},
   "outputs": [
    {
     "data": {
      "image/png": "[encoded data removed]",
      "text/plain": [
       "<Figure size 432x288 with 1 Axes>"
      ]
     },
     "metadata": {},
     "output_type": "display_data"
    }
   ],
   "source": [
    "xvals = np.linspace(2, 5, 100)  # 100 points between 2 and 5\n",
    "plt.plot(xvals, V(xvals))\n",
    "plt.xlabel('r')\n",
    "plt.ylabel('V(r)')\n",
    "plt.grid(False)\n",
    "plt.show()\n",
    "\n",
    "# You can not see the features of this function at\n",
    "# the current scale. Update the above plot to zoom \n",
    "# in on the area of the potential function where it\n",
    "# is near zero. Recall that you can use\n",
    "# plt.axis([x1, x2, y1, y2]) before the\n",
    "# plt.show() command to set the axes limits. Additionally\n",
    "# add grid lines to make it easier to inspect the zero\n",
    "# intercept of this function. \n",
    "# plt.axis([3,4,-0.1,0.2])"
   ]
  },
  {
   "cell_type": "code",
   "execution_count": 4,
   "metadata": {},
   "outputs": [
    {
     "data": {
      "image/png": "[encoded data removed]",
      "text/plain": [
       "<Figure size 432x288 with 1 Axes>"
      ]
     },
     "metadata": {},
     "output_type": "display_data"
    }
   ],
   "source": [
    "xvals = np.linspace(2, 5, 100)\n",
    "plt.plot(xvals, V(xvals))\n",
    "plt.axis([3,4,-0.1,0.2])\n",
    "plt.show()"
   ]
  },
  {
   "cell_type": "markdown",
   "metadata": {},
   "source": [
    "By zooming in a little bit we can see there's a root between $r = 3.0$ and $r = 5.0$.\n",
    "\n",
    "Let's confirm the sign of our function is different at these two values:"
   ]
  },
  {
   "cell_type": "code",
   "execution_count": 5,
   "metadata": {},
   "outputs": [
    {
     "name": "stdout",
     "output_type": "stream",
     "text": [
      "0.13056738189187514 -0.0040270335999999995\n",
      "2.6517679974356367 2.0332725873446797 3.4584017686516746\n"
     ]
    }
   ],
   "source": [
    "print(V(3.0), V(5.0))\n",
    "print(1.209E5**(1/12), 70.66**(1/6), (1.209E5/70.66)**(1/6))"
   ]
  },
  {
   "cell_type": "markdown",
   "metadata": {},
   "source": [
    "Now lets make a function that will use the bisection method to find the value of $r$ to within some tolerance."
   ]
  },
  {
   "cell_type": "code",
   "execution_count": 6,
   "metadata": {},
   "outputs": [],
   "source": [
    "# We'll use a scipy style docstring. This is a good habit to get into\n",
    "# as it'll let you use \"help(function_name)\" to get detailed information\n",
    "# on what the function does, what input it expects, and output it\n",
    "# generates.\n",
    "\n",
    "def bisection(func, x0, x1, maxiter, tol):\n",
    "    '''\n",
    "    Find the root of a function with the bisection method.\n",
    "\n",
    "    Parameters\n",
    "    ----------\n",
    "    func : function\n",
    "        A Python function we want to find a root of.\n",
    "    x0, x1 : float\n",
    "        The bounding values of the region to find the root.\n",
    "    maxiter : integer\n",
    "        The maximum number of iterations.\n",
    "    tol : float\n",
    "        Exit when the root is known within this tolerance\n",
    "    \n",
    "    Returns\n",
    "    -------\n",
    "    x : float\n",
    "        Root of the function between x0 and x1.\n",
    "    '''\n",
    "    f0 = func(x0)\n",
    "    f1 = func(x1)\n",
    "    sign_f0 = f0 / abs(f0)\n",
    "    sign_f1 = f1 / abs(f1)\n",
    "    # Lets be sure we have valid x0 and x1 before proceeding.\n",
    "    # We can use assert to raise an error if a condition isn't met.\n",
    "    assert sign_f0 != sign_f1, \"Error: func(x0) and func(x1) do not have opposite sign.\"\n",
    "   \n",
    "    # It's usually a good idea to enforce a limit on how many iterations a loop can\n",
    "    # do. Otherwise if something goes wrong, it may take some time to understand that\n",
    "    # your code is not converging.\n",
    "    for i in range(maxiter):\n",
    "        x = 0.5 * (x0 + x1)\n",
    "        # Exit when we know x within tol\n",
    "        if abs(x-x0) < tol:\n",
    "            # You can print out some info if you like. This is just for information\n",
    "            # in this example. You may not want output from functions cluttering a\n",
    "            # bigger code, and this will interfere with the use of %timeit\n",
    "            print(\"bisection converged in\", i, \"iterations.\")\n",
    "            return x\n",
    "\n",
    "        fx = func(x)\n",
    "        sign_fx = fx / abs(fx)\n",
    "        # Half the range as appropriate before the next iteration\n",
    "        if sign_fx == sign_f0:\n",
    "            x0 = x\n",
    "        else:\n",
    "            x1 = x\n",
    "\n",
    "    # If we get to here without returning a value, we haven't converged.\n",
    "    # \"raise\" is another good way to get your code to exit with an informative error if\n",
    "    # an input is not correct. There's a list of exceptions that can be raised at\n",
    "    # https://docs.python.org/3.6/library/exceptions.html\n",
    "    raise ValueError(\"Error: bisection failed to converge after max iterations.\")    "
   ]
  },
  {
   "cell_type": "code",
   "execution_count": 7,
   "metadata": {},
   "outputs": [
    {
     "name": "stdout",
     "output_type": "stream",
     "text": [
      "Help on function bisection in module __main__:\n",
      "\n",
      "bisection(func, x0, x1, maxiter, tol)\n",
      "    Find the root of a function with the bisection method.\n",
      "    \n",
      "    Parameters\n",
      "    ----------\n",
      "    func : function\n",
      "        A Python function we want to find a root of.\n",
      "    x0, x1 : float\n",
      "        The bounding values of the region to find the root.\n",
      "    maxiter : integer\n",
      "        The maximum number of iterations.\n",
      "    tol : float\n",
      "        Exit when the root is known within this tolerance\n",
      "    \n",
      "    Returns\n",
      "    -------\n",
      "    x : float\n",
      "        Root of the function between x0 and x1.\n",
      "\n"
     ]
    }
   ],
   "source": [
    "help(bisection)"
   ]
  },
  {
   "cell_type": "code",
   "execution_count": 8,
   "metadata": {},
   "outputs": [
    {
     "name": "stdout",
     "output_type": "stream",
     "text": [
      "CPU times: user 3 µs, sys: 6 µs, total: 9 µs\n",
      "Wall time: 17.9 µs\n",
      "bisection converged in 34 iterations.\n"
     ]
    },
    {
     "data": {
      "text/plain": [
       "3.4584017686429434"
      ]
     },
     "execution_count": 8,
     "metadata": {},
     "output_type": "execute_result"
    }
   ],
   "source": [
    "%time\n",
    "bisection(func=V, x0=3.0, x1=5.0, maxiter=100, tol=1e-10)"
   ]
  },
  {
   "cell_type": "code",
   "execution_count": 9,
   "metadata": {},
   "outputs": [
    {
     "data": {
      "text/plain": [
       "6.255690410128523e-13"
      ]
     },
     "execution_count": 9,
     "metadata": {},
     "output_type": "execute_result"
    }
   ],
   "source": [
    "# We can use '_' to use the output from the last evaluated cell\n",
    "# Let's do so to confirm the evaluated value from the bisection function \n",
    "# plugged into V gives us zero\n",
    "V(_)"
   ]
  },
  {
   "cell_type": "markdown",
   "metadata": {},
   "source": [
    "### Using the Bisection Method with SciPy\n",
    "\n",
    "Most numerical methods you might want to use have already been implemented as a library or python module. Python modules for potentially intensive calculations tend to be implemented in something that will run more quickly than native python, such as Fortran or C, so it is good to make use of them. Furthermore libraries and modules are likely to be better optimized than code you are likely to write yourself.\n",
    "\n",
    "SciPy has an implementation of the bisection method in [`scipy.optimize.bisect`](https://docs.scipy.org/doc/scipy/reference/generated/scipy.optimize.bisect.html)."
   ]
  },
  {
   "cell_type": "code",
   "execution_count": 10,
   "metadata": {},
   "outputs": [
    {
     "name": "stdout",
     "output_type": "stream",
     "text": [
      "CPU times: user 4 µs, sys: 5 µs, total: 9 µs\n",
      "Wall time: 17.6 µs\n"
     ]
    },
    {
     "data": {
      "text/plain": [
       "3.4584017686429434"
      ]
     },
     "execution_count": 10,
     "metadata": {},
     "output_type": "execute_result"
    }
   ],
   "source": [
    "# Uncomment the following for the internal help information on the function\n",
    "# help(scipy.optimize.bisect)\n",
    "%time \n",
    "scipy.optimize.bisect(f=V, a=3.0, b=5.0, xtol=1e-10)"
   ]
  },
  {
   "cell_type": "code",
   "execution_count": 11,
   "metadata": {},
   "outputs": [
    {
     "data": {
      "text/plain": [
       "6.255690410128523e-13"
      ]
     },
     "execution_count": 11,
     "metadata": {},
     "output_type": "execute_result"
    }
   ],
   "source": [
    "V(_)"
   ]
  },
  {
   "cell_type": "markdown",
   "metadata": {},
   "source": [
    "- Try using the `%timeit` magic to compare the scipy bisection function with the one implemented above. \n",
    "    - Be sure to comment out the print statement in the function or `%timeit` will produce a lot of output."
   ]
  },
  {
   "cell_type": "markdown",
   "metadata": {},
   "source": [
    "## Newton's Method\n",
    "\n",
    "This is typically quite a fast converging method, but you need to the know the function analytically. It should have a continuous first derivative, and you need a fairly good initial guess if you want to converge to the desired root.\n",
    "\n",
    "This works by using a linear expansion of the function using it's derivative at an initial guess to improve upon that guess as shown schematically in the image below:\n",
    "\n",
    "![Schematic of Newtons Method](images/newton.png)\n",
    "\n",
    "We can express this mathematically as\n",
    "$$ x_{i+1} = x_i - \\frac{f(x_i)}{f'(x_i)} $$\n",
    "which we can use to make a function that will iteratively find a root.\n",
    "\n",
    "Let's make a function that employs Newton's method to we can use to find the root of $\\Phi_{12}$ as above."
   ]
  },
  {
   "cell_type": "code",
   "execution_count": 12,
   "metadata": {},
   "outputs": [],
   "source": [
    "def newton(func, dfunc, x0, maxiter, tol):\n",
    "    '''\n",
    "    Find the root of a function using Newton's method.\n",
    "\n",
    "    Parameters\n",
    "    ----------\n",
    "    func : function\n",
    "        A Python function we want to find a root of.\n",
    "    dfunc : function\n",
    "        A Python function returning the derivative of func.\n",
    "    x0 : float\n",
    "        Initial guess at a root.\n",
    "    maxiter : integer\n",
    "        The maximum number of iterations.\n",
    "    tol : float\n",
    "        Exit when the root is known within this tolerance\n",
    "\n",
    "    Returns\n",
    "    -------\n",
    "    x : float\n",
    "        Root of the function.\n",
    "    '''\n",
    "\n",
    "    for i in range(maxiter):\n",
    "        x = x0 - func(x0)/dfunc(x0)\n",
    "        # Exit when we know x within tol\n",
    "        if abs(x-x0) < tol:\n",
    "            # You can print out some info if you like. This is optional, and you may\n",
    "            # not want output from functions cluttering a bigger code.\n",
    "            print(\"newton converged in\", i, \"iterations.\")\n",
    "            return x\n",
    "        x0 = x\n",
    "    \n",
    "    # If we get to here without returning a value, we haven't converged.\n",
    "    raise ValueError(\"Error: newton failed to converge after max iterations.\")    "
   ]
  },
  {
   "cell_type": "markdown",
   "metadata": {},
   "source": [
    "We'll also need to define a function for the derivative:"
   ]
  },
  {
   "cell_type": "code",
   "execution_count": 13,
   "metadata": {},
   "outputs": [],
   "source": [
    "def dV(r):\n",
    "    '''Derivative of Lennard-Jones Potential for Argon (eV with r in Angstrom)'''\n",
    "    return -12*1.209E5*r**(-13) + 6*70.66*r**(-7)"
   ]
  },
  {
   "cell_type": "markdown",
   "metadata": {},
   "source": [
    "Now let's find our root, starting from 2.0"
   ]
  },
  {
   "cell_type": "code",
   "execution_count": 14,
   "metadata": {
    "scrolled": true
   },
   "outputs": [
    {
     "name": "stdout",
     "output_type": "stream",
     "text": [
      "newton converged in 12 iterations.\n"
     ]
    },
    {
     "data": {
      "text/plain": [
       "3.4584017686516746"
      ]
     },
     "execution_count": 14,
     "metadata": {},
     "output_type": "execute_result"
    }
   ],
   "source": [
    "newton(func=V, dfunc=dV, x0=2.0, maxiter=100, tol=1e-10)"
   ]
  },
  {
   "cell_type": "markdown",
   "metadata": {},
   "source": [
    "As you can see, this took significantly fewer iterations to obtain the same accuracy.\n",
    "\n",
    "But this method is a bit more sensitive - for example if we take a somewhat higher initial guess we quickly run into trouble:"
   ]
  },
  {
   "cell_type": "code",
   "execution_count": 15,
   "metadata": {
    "scrolled": true
   },
   "outputs": [
    {
     "ename": "ValueError",
     "evalue": "Error: newton failed to converge after max iterations.",
     "output_type": "error",
     "traceback": [
      "\u001b[0;31m---------------------------------------------------------------------------\u001b[0m",
      "\u001b[0;31mValueError\u001b[0m                                Traceback (most recent call last)",
      "\u001b[0;32m<ipython-input-15-065699f39755>\u001b[0m in \u001b[0;36m<module>\u001b[0;34m()\u001b[0m\n\u001b[0;32m----> 1\u001b[0;31m \u001b[0mnewton\u001b[0m\u001b[0;34m(\u001b[0m\u001b[0mfunc\u001b[0m\u001b[0;34m=\u001b[0m\u001b[0mV\u001b[0m\u001b[0;34m,\u001b[0m \u001b[0mdfunc\u001b[0m\u001b[0;34m=\u001b[0m\u001b[0mdV\u001b[0m\u001b[0;34m,\u001b[0m \u001b[0mx0\u001b[0m\u001b[0;34m=\u001b[0m\u001b[0;36m4.0\u001b[0m\u001b[0;34m,\u001b[0m \u001b[0mmaxiter\u001b[0m\u001b[0;34m=\u001b[0m\u001b[0;36m100\u001b[0m\u001b[0;34m,\u001b[0m \u001b[0mtol\u001b[0m\u001b[0;34m=\u001b[0m\u001b[0;36m1e-10\u001b[0m\u001b[0;34m)\u001b[0m\u001b[0;34m\u001b[0m\u001b[0m\n\u001b[0m",
      "\u001b[0;32m<ipython-input-12-4af40170fb8d>\u001b[0m in \u001b[0;36mnewton\u001b[0;34m(func, dfunc, x0, maxiter, tol)\u001b[0m\n\u001b[1;32m     33\u001b[0m \u001b[0;34m\u001b[0m\u001b[0m\n\u001b[1;32m     34\u001b[0m     \u001b[0;31m# If we get to here without returning a value, we haven't converged.\u001b[0m\u001b[0;34m\u001b[0m\u001b[0;34m\u001b[0m\u001b[0m\n\u001b[0;32m---> 35\u001b[0;31m     \u001b[0;32mraise\u001b[0m \u001b[0mValueError\u001b[0m\u001b[0;34m(\u001b[0m\u001b[0;34m\"Error: newton failed to converge after max iterations.\"\u001b[0m\u001b[0;34m)\u001b[0m\u001b[0;34m\u001b[0m\u001b[0m\n\u001b[0m",
      "\u001b[0;31mValueError\u001b[0m: Error: newton failed to converge after max iterations."
     ]
    }
   ],
   "source": [
    "newton(func=V, dfunc=dV, x0=4.0, maxiter=100, tol=1e-10)"
   ]
  },
  {
   "cell_type": "markdown",
   "metadata": {},
   "source": [
    "## Doing this with SciPy\n",
    "\n",
    "Again, SciPy has an implementation of this we can use as [`scipy.optimize.newton`](https://docs.scipy.org/doc/scipy/reference/generated/scipy.optimize.newton.html)."
   ]
  },
  {
   "cell_type": "code",
   "execution_count": 16,
   "metadata": {},
   "outputs": [
    {
     "data": {
      "text/plain": [
       "3.4584017686516746"
      ]
     },
     "execution_count": 16,
     "metadata": {},
     "output_type": "execute_result"
    }
   ],
   "source": [
    "# Uncomment the following for the internal help information on the function\n",
    "# help(scipy.optimize.newton)\n",
    "\n",
    "scipy.optimize.newton(func=V, x0=3.0, fprime=dV, tol=1e-10)"
   ]
  },
  {
   "cell_type": "markdown",
   "metadata": {},
   "source": [
    "## The Secant Method\n",
    "\n",
    "It can often be tricky to generate a new function that accurately returns the derivative of another function. To get around this we can use the secant method.\n",
    "\n",
    "This works like Newton's method, but we don't need to have an analytic function for the derivative. Instead we approximate it from two previous guesses as\n",
    "\n",
    "$$ f'(x_i) \\approx \\frac{f(x_i) - f(x_{i-1})}{x_i - x_{i-1}} $$\n",
    "\n",
    "which we can combine with our expression for Newton's method to get\n",
    "\n",
    "$$ x_{i+1} = x_i - \\frac{f(x_i)(x_i - x_{i-1})}{f(x_i) - f(x_{i-1})} = \\frac{x_{i-1}f(x_i) - x_{i}f(x_{i-1})}{f(x_i) - f(x_{i-1})}$$"
   ]
  },
  {
   "cell_type": "code",
   "execution_count": 17,
   "metadata": {},
   "outputs": [],
   "source": [
    "def secant(func, x0, x1, maxiter, tol):\n",
    "    '''\n",
    "    Use the secant method to find a root of a function\n",
    "    \n",
    "    Parameters\n",
    "    ----------\n",
    "    func : function\n",
    "        A Python function we want to find a root of.\n",
    "    x0 : float\n",
    "        Initial guess at a root.\n",
    "    x1 : float\n",
    "        A second guess at a root.\n",
    "    maxiter : integer\n",
    "        The maximum number of iterations.\n",
    "    tol : float\n",
    "        Exit when the root is known within this tolerance\n",
    "\n",
    "    Returns\n",
    "    -------\n",
    "    x : float\n",
    "        Root of the function.\n",
    "    '''\n",
    "\n",
    "    f0 = func(x0)\n",
    "    for i in range(maxiter):\n",
    "        f1 = func(x1)\n",
    "        x = (x0*f1 - x1*f0)/(f1 - f0)\n",
    "        # Exit when we know x within tol\n",
    "        if abs(x-x1) < tol:\n",
    "            # You can print out some info if you like. This is optional, and you may\n",
    "            # not want output from functions cluttering a bigger code.\n",
    "            print(\"secant converged in\", i, \"iterations.\")\n",
    "            return x\n",
    "        x0 = x1\n",
    "        x1 = x\n",
    "        f0 = f1\n",
    "\n",
    "    # If we get to here without returning a value, we haven't converged.\n",
    "    raise ValueError(\"Error: secant failed to converge after max iterations.\")"
   ]
  },
  {
   "cell_type": "code",
   "execution_count": 18,
   "metadata": {},
   "outputs": [
    {
     "name": "stdout",
     "output_type": "stream",
     "text": [
      "secant converged in 9 iterations.\n"
     ]
    },
    {
     "data": {
      "text/plain": [
       "3.458401768651675"
      ]
     },
     "execution_count": 18,
     "metadata": {},
     "output_type": "execute_result"
    }
   ],
   "source": [
    "secant(func=V, x0=3.0, x1=3.1, maxiter=100, tol=1e-10)"
   ]
  },
  {
   "cell_type": "code",
   "execution_count": 19,
   "metadata": {},
   "outputs": [
    {
     "name": "stdout",
     "output_type": "stream",
     "text": [
      "secant converged in 9 iterations.\n"
     ]
    },
    {
     "data": {
      "text/plain": [
       "3.458401768651675"
      ]
     },
     "execution_count": 19,
     "metadata": {},
     "output_type": "execute_result"
    }
   ],
   "source": [
    "# It doesn't matter which of x0 or x1 is a better guess\n",
    "secant(func=V, x0=3.1, x1=3.0, maxiter=100, tol=1e-10)"
   ]
  },
  {
   "cell_type": "code",
   "execution_count": 20,
   "metadata": {},
   "outputs": [
    {
     "ename": "ValueError",
     "evalue": "Error: secant failed to converge after max iterations.",
     "output_type": "error",
     "traceback": [
      "\u001b[0;31m---------------------------------------------------------------------------\u001b[0m",
      "\u001b[0;31mValueError\u001b[0m                                Traceback (most recent call last)",
      "\u001b[0;32m<ipython-input-20-bd521841fbe6>\u001b[0m in \u001b[0;36m<module>\u001b[0;34m()\u001b[0m\n\u001b[1;32m      1\u001b[0m \u001b[0;31m# It is still sensitive to the choice of initial guess though\u001b[0m\u001b[0;34m\u001b[0m\u001b[0;34m\u001b[0m\u001b[0m\n\u001b[0;32m----> 2\u001b[0;31m \u001b[0msecant\u001b[0m\u001b[0;34m(\u001b[0m\u001b[0mfunc\u001b[0m\u001b[0;34m=\u001b[0m\u001b[0mV\u001b[0m\u001b[0;34m,\u001b[0m \u001b[0mx0\u001b[0m\u001b[0;34m=\u001b[0m\u001b[0;36m3.0\u001b[0m\u001b[0;34m,\u001b[0m \u001b[0mx1\u001b[0m\u001b[0;34m=\u001b[0m\u001b[0;36m3.9\u001b[0m\u001b[0;34m,\u001b[0m \u001b[0mmaxiter\u001b[0m\u001b[0;34m=\u001b[0m\u001b[0;36m100\u001b[0m\u001b[0;34m,\u001b[0m \u001b[0mtol\u001b[0m\u001b[0;34m=\u001b[0m\u001b[0;36m1e-10\u001b[0m\u001b[0;34m)\u001b[0m\u001b[0;34m\u001b[0m\u001b[0m\n\u001b[0m",
      "\u001b[0;32m<ipython-input-17-90fb2d05e20a>\u001b[0m in \u001b[0;36msecant\u001b[0;34m(func, x0, x1, maxiter, tol)\u001b[0m\n\u001b[1;32m     37\u001b[0m \u001b[0;34m\u001b[0m\u001b[0m\n\u001b[1;32m     38\u001b[0m     \u001b[0;31m# If we get to here without returning a value, we haven't converged.\u001b[0m\u001b[0;34m\u001b[0m\u001b[0;34m\u001b[0m\u001b[0m\n\u001b[0;32m---> 39\u001b[0;31m     \u001b[0;32mraise\u001b[0m \u001b[0mValueError\u001b[0m\u001b[0;34m(\u001b[0m\u001b[0;34m\"Error: secant failed to converge after max iterations.\"\u001b[0m\u001b[0;34m)\u001b[0m\u001b[0;34m\u001b[0m\u001b[0m\n\u001b[0m",
      "\u001b[0;31mValueError\u001b[0m: Error: secant failed to converge after max iterations."
     ]
    }
   ],
   "source": [
    "# It is still sensitive to the choice of initial guess though\n",
    "secant(func=V, x0=3.0, x1=3.9, maxiter=100, tol=1e-10)"
   ]
  },
  {
   "cell_type": "markdown",
   "metadata": {},
   "source": [
    "### Doing this with SciPy\n",
    "\n",
    "We can use the same [`scipy.optimize.newton`](https://docs.scipy.org/doc/scipy/reference/generated/scipy.optimize.newton.html) function as above to use the secant method. This method is used automatically when a derivative function is not provided. Note that the scipy version does not require a second initial guess, it automatically generates the second value by adding a small amount to the provided initial guess."
   ]
  },
  {
   "cell_type": "code",
   "execution_count": 21,
   "metadata": {},
   "outputs": [
    {
     "data": {
      "text/plain": [
       "3.4584017686516746"
      ]
     },
     "execution_count": 21,
     "metadata": {},
     "output_type": "execute_result"
    }
   ],
   "source": [
    "scipy.optimize.newton(func=V, x0=3.0, tol=1e-10)"
   ]
  },
  {
   "cell_type": "markdown",
   "metadata": {},
   "source": [
    "## Brent's Methods\n",
    "\n",
    "Brent's method uses a combination of ideas from the approaches we discussed above. It decides on each iteration whether it's best to proceed with\n",
    "- a step of bisection\n",
    "- a step of secant\n",
    "- or a step of inverse quadratic interpolation\n",
    "    - This is like the secant method, but uses results from three values to approximate a quadratic rather than a line.\n",
    "\n",
    "This gives you the advantages of each method and avoids their drawbacks to provide a robust and fast converging method to obtain a root in a bracketed interval.\n",
    "\n",
    "It's available in SciPy as [`scipy.optimize.brentq`](https://docs.scipy.org/doc/scipy/reference/generated/scipy.optimize.brentq.html). **This is likely the best choice of approach available when trying to find a root with Python**."
   ]
  },
  {
   "cell_type": "code",
   "execution_count": 22,
   "metadata": {},
   "outputs": [
    {
     "data": {
      "text/plain": [
       "(3.4584017686516746,       converged: True\n",
       "            flag: 'converged'\n",
       "  function_calls: 12\n",
       "      iterations: 11\n",
       "            root: 3.4584017686516746)"
      ]
     },
     "execution_count": 22,
     "metadata": {},
     "output_type": "execute_result"
    }
   ],
   "source": [
    "scipy.optimize.brentq(f=V, a=3.0, b=5.0, xtol=1e-10, full_output=True)"
   ]
  },
  {
   "cell_type": "code",
   "execution_count": 23,
   "metadata": {},
   "outputs": [
    {
     "name": "stdout",
     "output_type": "stream",
     "text": [
      "The slowest run took 6.93 times longer than the fastest. This could mean that an intermediate result is being cached.\n",
      "100000 loops, best of 3: 6.9 µs per loop\n"
     ]
    }
   ],
   "source": [
    "%timeit scipy.optimize.brentq(f=V, a=2.0, b=5.0, xtol=1e-10)"
   ]
  },
  {
   "cell_type": "code",
   "execution_count": 24,
   "metadata": {},
   "outputs": [
    {
     "name": "stdout",
     "output_type": "stream",
     "text": [
      "Help on function brentq in module scipy.optimize.zeros:\n",
      "\n",
      "brentq(f, a, b, args=(), xtol=2e-12, rtol=8.881784197001252e-16, maxiter=100, full_output=False, disp=True)\n",
      "    Find a root of a function in a bracketing interval using Brent's method.\n",
      "    \n",
      "    Uses the classic Brent's method to find a zero of the function `f` on\n",
      "    the sign changing interval [a , b].  Generally considered the best of the\n",
      "    rootfinding routines here.  It is a safe version of the secant method that\n",
      "    uses inverse quadratic extrapolation.  Brent's method combines root\n",
      "    bracketing, interval bisection, and inverse quadratic interpolation.  It is\n",
      "    sometimes known as the van Wijngaarden-Dekker-Brent method.  Brent (1973)\n",
      "    claims convergence is guaranteed for functions computable within [a,b].\n",
      "    \n",
      "    [Brent1973]_ provides the classic description of the algorithm.  Another\n",
      "    description can be found in a recent edition of Numerical Recipes, including\n",
      "    [PressEtal1992]_.  Another description is at\n",
      "    http://mathworld.wolfram.com/BrentsMethod.html.  It should be easy to\n",
      "    understand the algorithm just by reading our code.  Our code diverges a bit\n",
      "    from standard presentations: we choose a different formula for the\n",
      "    extrapolation step.\n",
      "    \n",
      "    Parameters\n",
      "    ----------\n",
      "    f : function\n",
      "        Python function returning a number.  The function :math:`f`\n",
      "        must be continuous, and :math:`f(a)` and :math:`f(b)` must\n",
      "        have opposite signs.\n",
      "    a : number\n",
      "        One end of the bracketing interval :math:`[a, b]`.\n",
      "    b : number\n",
      "        The other end of the bracketing interval :math:`[a, b]`.\n",
      "    xtol : number, optional\n",
      "        The computed root ``x0`` will satisfy ``np.allclose(x, x0,\n",
      "        atol=xtol, rtol=rtol)``, where ``x`` is the exact root. The\n",
      "        parameter must be nonnegative. For nice functions, Brent's\n",
      "        method will often satisfy the above condition will ``xtol/2``\n",
      "        and ``rtol/2``. [Brent1973]_\n",
      "    rtol : number, optional\n",
      "        The computed root ``x0`` will satisfy ``np.allclose(x, x0,\n",
      "        atol=xtol, rtol=rtol)``, where ``x`` is the exact root. The\n",
      "        parameter cannot be smaller than its default value of\n",
      "        ``4*np.finfo(float).eps``. For nice functions, Brent's\n",
      "        method will often satisfy the above condition will ``xtol/2``\n",
      "        and ``rtol/2``. [Brent1973]_\n",
      "    maxiter : number, optional\n",
      "        if convergence is not achieved in maxiter iterations, an error is\n",
      "        raised.  Must be >= 0.\n",
      "    args : tuple, optional\n",
      "        containing extra arguments for the function `f`.\n",
      "        `f` is called by ``apply(f, (x)+args)``.\n",
      "    full_output : bool, optional\n",
      "        If `full_output` is False, the root is returned.  If `full_output` is\n",
      "        True, the return value is ``(x, r)``, where `x` is the root, and `r` is\n",
      "        a RootResults object.\n",
      "    disp : bool, optional\n",
      "        If True, raise RuntimeError if the algorithm didn't converge.\n",
      "    \n",
      "    Returns\n",
      "    -------\n",
      "    x0 : float\n",
      "        Zero of `f` between `a` and `b`.\n",
      "    r : RootResults (present if ``full_output = True``)\n",
      "        Object containing information about the convergence.  In particular,\n",
      "        ``r.converged`` is True if the routine converged.\n",
      "    \n",
      "    See Also\n",
      "    --------\n",
      "    multivariate local optimizers\n",
      "      `fmin`, `fmin_powell`, `fmin_cg`, `fmin_bfgs`, `fmin_ncg`\n",
      "    nonlinear least squares minimizer\n",
      "      `leastsq`\n",
      "    constrained multivariate optimizers\n",
      "      `fmin_l_bfgs_b`, `fmin_tnc`, `fmin_cobyla`\n",
      "    global optimizers\n",
      "      `basinhopping`, `brute`, `differential_evolution`\n",
      "    local scalar minimizers\n",
      "      `fminbound`, `brent`, `golden`, `bracket`\n",
      "    n-dimensional root-finding\n",
      "      `fsolve`\n",
      "    one-dimensional root-finding\n",
      "      `brentq`, `brenth`, `ridder`, `bisect`, `newton`\n",
      "    scalar fixed-point finder\n",
      "      `fixed_point`\n",
      "    \n",
      "    Notes\n",
      "    -----\n",
      "    `f` must be continuous.  f(a) and f(b) must have opposite signs.\n",
      "    \n",
      "    \n",
      "    References\n",
      "    ----------\n",
      "    .. [Brent1973]\n",
      "       Brent, R. P.,\n",
      "       *Algorithms for Minimization Without Derivatives*.\n",
      "       Englewood Cliffs, NJ: Prentice-Hall, 1973. Ch. 3-4.\n",
      "    \n",
      "    .. [PressEtal1992]\n",
      "       Press, W. H.; Flannery, B. P.; Teukolsky, S. A.; and Vetterling, W. T.\n",
      "       *Numerical Recipes in FORTRAN: The Art of Scientific Computing*, 2nd ed.\n",
      "       Cambridge, England: Cambridge University Press, pp. 352-355, 1992.\n",
      "       Section 9.3:  \"Van Wijngaarden-Dekker-Brent Method.\"\n",
      "\n"
     ]
    }
   ],
   "source": [
    "help(scipy.optimize.brentq)"
   ]
  },
  {
   "cell_type": "code",
   "execution_count": null,
   "metadata": {},
   "outputs": [],
   "source": []
  }
 ],
 "metadata": {
  "kernelspec": {
   "display_name": "Python 3",
   "language": "python",
   "name": "python3"
  },
  "language_info": {
   "codemirror_mode": {
    "name": "ipython",
    "version": 3
   },
   "file_extension": ".py",
   "mimetype": "text/x-python",
   "name": "python",
   "nbconvert_exporter": "python",
   "pygments_lexer": "ipython3",
   "version": "3.5.2"
  }
 },
 "nbformat": 4,
 "nbformat_minor": 2
}
