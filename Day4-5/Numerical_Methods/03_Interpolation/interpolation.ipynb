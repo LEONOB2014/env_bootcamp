{
 "cells": [
  {
   "cell_type": "code",
   "execution_count": null,
   "metadata": {
    "collapsed": true
   },
   "outputs": [],
   "source": [
    "import numpy as np\n",
    "import matplotlib.pyplot as plt\n",
    "\n",
    "import scipy.linalg\n",
    "import scipy.interpolate"
   ]
  },
  {
   "cell_type": "markdown",
   "metadata": {},
   "source": [
    "# Interpolation\n",
    "\n",
    "If we have sampled data at some fixed set of points, we often want to systematically estimate the value our data would take in between these sampled points. In other words, we want to come up with a systematic way to generate a value for the function we have sampled at a point we have not sampled directly.\n",
    "\n",
    "There could be many reasons for this:\n",
    "- You might have performed a number of expensive simulations where some parameter $r$ has been varied, and want a sensible estimate of some parameter you're deriving from your simulation at a value of $r$ you have not calculated directly.\n",
    "- You might want to find the derivative or integral as a function of $r$.\n",
    "- You just want a nice-looking plot.\n",
    "\n",
    "The interpolating function should pass through all the sampled points, otherwise we are no longer interpolating, but curve fitting (which we'll cover later in the course).\n",
    "\n",
    "Let's say we have obtained $f(x_i)$ for some set $x_i$, with $0\\le i\\le n$. This means we want to find some good approximation for $f(t)$ where $x_i < t < x_{i+1}$ for some $i$ and $i+1$ in our data set.\n",
    "\n",
    "Lets generate some random data that we can use as an example:"
   ]
  },
  {
   "cell_type": "code",
   "execution_count": null,
   "metadata": {
    "scrolled": true
   },
   "outputs": [],
   "source": [
    "# Lets say our x-values are ordered, from 0 to 10 and y have random y values\n",
    "# Generate 11 evenly spaced x-values\n",
    "x_data = np.linspace(0, 10, 11)\n",
    "# Generate 11 random y-values between 0 and 1\n",
    "y_data = np.random.rand(11)\n",
    "# To get something that looks more well behaved you could sort the\n",
    "# y-values by uncommenting the following line.\n",
    "#y_data.sort()\n",
    "\n",
    "plt.plot(x_data, y_data, 'bo')\n",
    "plt.show()"
   ]
  },
  {
   "cell_type": "markdown",
   "metadata": {},
   "source": [
    "## Constant Interpolation\n",
    "\n",
    "The simplest thing to do is to assume our data is constant in the interval, and equal to the value at one of the end-points.\n",
    "\n",
    "For example we could take for $x_i < t < x_{i+1}$, $f(t) = f(x_i)$ or $f(t) = f(x_{i+1})$.\n",
    "\n",
    "A python function which does this is below:"
   ]
  },
  {
   "cell_type": "code",
   "execution_count": null,
   "metadata": {
    "collapsed": true
   },
   "outputs": [],
   "source": [
    "def constant_interp(xvals, yvals, t):\n",
    "    '''Interpolate the value of y(t) given y(x_i) using constant approx\n",
    "    \n",
    "    Parameters\n",
    "    ----------\n",
    "    xvals : float, array\n",
    "        The x-values we have sampled - they must be in increasing order.\n",
    "    yvals : float array\n",
    "        The value of y at each x we have sampled.\n",
    "    t : float\n",
    "        The (x-axis) value at which we want to interpolate.\n",
    "    \n",
    "    Notes\n",
    "    -----\n",
    "    This will use the value on the right side of the interval.   \n",
    "    '''\n",
    "    \n",
    "    # Here we use searchsorted from numpy which tells us where t would need to\n",
    "    # be in our list of x-vals to maintain it as sorted. This corresponds to\n",
    "    # the right hand index of the interval.\n",
    "    t_index = np.searchsorted(xvals, t, 'left')\n",
    "    \n",
    "    return yvals[t_index]"
   ]
  },
  {
   "cell_type": "markdown",
   "metadata": {},
   "source": [
    "Lets see how this looks if we plot it with the random input we generated earlier:"
   ]
  },
  {
   "cell_type": "code",
   "execution_count": null,
   "metadata": {},
   "outputs": [],
   "source": [
    "xplt = np.linspace(0, 10, 1001)\n",
    "# We just plot dots instead of lines here as an easy way to highlight discontinuities.\n",
    "plt.plot(xplt, constant_interp(x_data, y_data, xplt), 'r.', x_data, y_data, 'bo')\n",
    "plt.xlabel('x')\n",
    "plt.ylabel('Constant Interpolated y')\n",
    "plt.show()"
   ]
  },
  {
   "cell_type": "markdown",
   "metadata": {},
   "source": [
    "This doesn't look great. But as you can imagine, with a sufficiently dense set of input data, may be adequate. It would be nice to have an interpolating function without discontinuities though. Here every value calculated for our interpolating function has used only a single point. You can likely guess the easiest improvement that can be made to this."
   ]
  },
  {
   "cell_type": "markdown",
   "metadata": {},
   "source": [
    "### _Task_\n",
    "\n",
    "- Modify the constant interpolation routine to use return the constant value given by the left value of the interval rather than the right.\n",
    "- A slightly better approach might be to take the function value from the nearest sampled x-value. How might you implement this?"
   ]
  },
  {
   "cell_type": "markdown",
   "metadata": {},
   "source": [
    "## Linear Interpolation\n",
    "\n",
    "The next step up would then be to use a linear interpolation, where the interpolating function is defined piecewise as the line connecting each point we wish to interpolate between.\n",
    "\n",
    "Given two different points we can define the line that passes through them both as $$y(x) = \\frac{y_2-y_1}{x_2-x_1}(x-x_1)+y_1,$$ or $$y(x) = \\frac{y_2-y_1}{x_2-x_1}(x-x_2)+y_2.$$\n",
    "\n",
    "You could equivalently think of this as having some normalized weighting on the interval, with the weights given by the relative proximity to the sampled x-values:\n",
    "$$ y(x) = A(x)y_1 + B(x)y_2\\\\\n",
    "A(x) = \\frac{x_2 - x}{x_2 - x_1} \\\\\n",
    "B(x) = \\frac{x - x_1}{x_2 - x_1} \\\\\n",
    "A(x) + B(x) = 1 $$\n",
    "\n",
    "We can use this to define a python function as follows:"
   ]
  },
  {
   "cell_type": "code",
   "execution_count": null,
   "metadata": {
    "collapsed": true
   },
   "outputs": [],
   "source": [
    "def linear_interp(xvals, yvals, t):\n",
    "    '''Linear interpolation of the value of y(t) given y(x_i)\n",
    "    \n",
    "    Parameters\n",
    "    ----------\n",
    "    xvals : float, array\n",
    "        the x-values we have sampled - they must be in increasing order.\n",
    "    yvals : float, array\n",
    "        the value of y at each x we have sampled.\n",
    "    t : float\n",
    "        the (x-axis) value at which we want to interpolate.\n",
    "    \n",
    "    Returns\n",
    "    -------\n",
    "    y_interp : float\n",
    "        the interpolated value of y(t).\n",
    "    '''\n",
    "    \n",
    "    # Here we use searchsorted from numpy which tells us where t would need to\n",
    "    # be in our list of x-vals to maintain it as sorted.\n",
    "    t_index = np.searchsorted(xvals, t, 'left')\n",
    "    \n",
    "    y_interp = (yvals[t_index] + (t - xvals[t_index]) *\n",
    "                (yvals[t_index] - yvals[t_index-1])/(xvals[t_index] - xvals[t_index-1]))\n",
    "    \n",
    "    return y_interp"
   ]
  },
  {
   "cell_type": "markdown",
   "metadata": {},
   "source": [
    "Now lets see how this looks with our random data"
   ]
  },
  {
   "cell_type": "code",
   "execution_count": null,
   "metadata": {},
   "outputs": [],
   "source": [
    "xplt = np.linspace(0, 10, 1001)\n",
    "plt.plot(xplt, linear_interp(x_data, y_data, xplt), 'r-', x_data, y_data, 'bo')\n",
    "plt.xlabel('x')\n",
    "plt.ylabel('Linear Interpolated y')\n",
    "plt.show()"
   ]
  },
  {
   "cell_type": "markdown",
   "metadata": {},
   "source": [
    "Already this looks much better. The interpolating function is now continuous, however its derivative is not, so the interpolating function looks pretty jagged."
   ]
  },
  {
   "cell_type": "markdown",
   "metadata": {},
   "source": [
    "## Lagrange Polynomial\n",
    "\n",
    "Let's change our approach a bit, and instead of trying to find some piecewise function, let's instead try to find a polynomial that will pass through all our sampled points. Polynomials are always well behaved, and can be differentiated as much as we want, so maybe this will give us a good interpolation. The polynomial of lowest degree that will pass through a fixed set of points is known as the Lagrange polynomial.\n",
    "\n",
    "Say we have four points: $(0, 2)$, $(1, 1)$, $(2, 2)$, $(3,0)$, and we want to find the polynomial that will pass through them. The polynomial could be written as $a_0+a_1x+a_2x^2+a_3x^3=y$. Since the four points given must satisfy this polynmoial, we could write this as the following matrix equation:\n",
    "\n",
    "$$ \\begin{pmatrix} 1 & 0 & 0 & 0 \\\\ 1 & 1 & 1 & 1 \\\\ 1 & 2 & 4 & 8 \\\\ 1 & 3 & 9 & 27 \\end{pmatrix} \n",
    "\\begin{pmatrix}a_0 \\\\ a_1 \\\\ a_2 \\\\ a_3 \\end{pmatrix} =\n",
    "\\begin{pmatrix}2 \\\\ 1 \\\\ 2 \\\\ 0 \\end{pmatrix} $$\n",
    "\n",
    "Here each row has values $x^i$ with $i$ the column index, with a row for each $x$ value. We know how to solve this type of system from the previous class. So let's do this now in python and see how it looks."
   ]
  },
  {
   "cell_type": "code",
   "execution_count": null,
   "metadata": {},
   "outputs": [],
   "source": [
    "points = np.array([[0, 2], [1, 1], [2, 2], [3, 0]])\n",
    "\n",
    "xmat = np.empty((len(points), len(points)))\n",
    "for i in range(len(points)):\n",
    "    xmat[:, i] = points[:, 0] ** i\n",
    "\n",
    "coeffs = scipy.linalg.solve(xmat, points[:, 1])\n",
    "xplt = np.linspace(points[:, 0].min(), points[:,0].max(), 100)\n",
    "\n",
    "# polyval will evaluate a polynomial given coefficients but\n",
    "# expects them in the reverse order to that we calculated.\n",
    "yplt = np.polyval(coeffs[::-1], xplt)\n",
    "\n",
    "plt.plot(points[:, 0], points[:, 1], 'bo')\n",
    "plt.plot(xplt, yplt, 'r-')\n",
    "plt.show()"
   ]
  },
  {
   "cell_type": "markdown",
   "metadata": {},
   "source": [
    "This looks pretty good in this case.\n",
    "\n",
    "A fairly compact formula can be found for this polynomial that's a little easier than solving a matrix equation. We can write the interpolating polynomial as\n",
    "\n",
    "$$ L(x) = \\Sigma_{j=0}^k y_j l_j(x) $$\n",
    "with\n",
    "$$ l_j(x) = \\Pi_{m=0, m\\ne j}^{k} \\frac{x-x_m}{x_j-x_m}$$\n",
    "\n",
    "As we saw previously, solving a matrix equation is O($n^3$), but this expression should give us the interpolating polynomial in O($n^2$) operations. Let's write a python function to calculate this and see if we get the same thing."
   ]
  },
  {
   "cell_type": "code",
   "execution_count": null,
   "metadata": {
    "collapsed": true
   },
   "outputs": [],
   "source": [
    "def lpoly_interp(xvals, yvals, t):\n",
    "    '''\n",
    "    Lagrange interpolating polynomial of the value of y(t) given y(x_i)\n",
    "    \n",
    "    Parameters\n",
    "    ----------\n",
    "    xvals : float, array\n",
    "        the x-values we have sampled. These must all be different.\n",
    "    yvals : float, array\n",
    "        the value of y at each x we have sampled.\n",
    "    t : float\n",
    "        the (x-axis) value at which we want to interpolate.\n",
    "    \n",
    "    Returns\n",
    "    -------\n",
    "    y_interp : float\n",
    "        the interpolated value of y(t).\n",
    "    '''\n",
    "    k = len(xvals)\n",
    "    y_interp = 0\n",
    "    for j in range(k):\n",
    "        # It's important to specify the axis for np.prod or we won't be able to use the function\n",
    "        # with an array argument.\n",
    "        lj = np.prod([(t - xvals[m]) / (xvals[j] - xvals[m]) for m in range(k) if m != j], axis=0)\n",
    "        y_interp += yvals[j] * lj\n",
    "    return y_interp"
   ]
  },
  {
   "cell_type": "code",
   "execution_count": null,
   "metadata": {},
   "outputs": [],
   "source": [
    "# Now let's see if we get the same result as before:\n",
    "xplt = np.linspace(points[:, 0].min(), points[:,0].max(), 100)\n",
    "yplt = lpoly_interp(points[:, 0], points[:, 1], xplt)\n",
    "\n",
    "plt.plot(points[:, 0], points[:, 1], 'bo')\n",
    "plt.plot(xplt, yplt, 'r-')\n",
    "plt.show()"
   ]
  },
  {
   "cell_type": "markdown",
   "metadata": {},
   "source": [
    "This looks identical to what we had before.\n",
    "\n",
    "Let's also see how it looks with the random data we generated at the beginning."
   ]
  },
  {
   "cell_type": "code",
   "execution_count": null,
   "metadata": {},
   "outputs": [],
   "source": [
    "xplt = np.linspace(0, 10, 1001)\n",
    "plt.plot(xplt, lpoly_interp(x_data, y_data, xplt), 'r-', x_data, y_data, 'bo')\n",
    "plt.xlabel('x')\n",
    "plt.ylabel('Lagrange Interpolated y')\n",
    "plt.show()"
   ]
  },
  {
   "cell_type": "markdown",
   "metadata": {},
   "source": [
    "Depending on how how your random data looks your interpolation may look very different. You'll likely see it goes very far outside the range of the original sampled y values in a number of places. This is known as [Runge's phenomenon](https://en.wikipedia.org/wiki/Runge%27s_phenomenon). Runge found that the if the function $f(x)=\\frac{1}{1+25x^2}$ was interpolated from a set of equidistant samples, it showed large oscillations toward the edges of the sampled data.\n",
    "\n",
    "It would be useful to have an approach that kept some of the smoothness of the polynomial interpolation, but without this kind of effect."
   ]
  },
  {
   "cell_type": "markdown",
   "metadata": {},
   "source": [
    "## Spline Interpolation\n",
    "\n",
    "Let's return to the piecewise interpolating approach we used earlier, but try to improve the smoothness of the interpolation. A good approach to do this is to use what's known as a spline. A spline is a piecewise polynomial function. Let's think about what we'll need to generate it in such a way that the interpolating spline function and both it's first and second derivatives are continuous.\n",
    "\n",
    "Let's look at the expression for a cubic polynomial $S(x)$ passing through a pair of points $(x_0, y_0)$ and $(x_1, y_1)$.\n",
    "\n",
    "Since it passes through both points $S(x_0) = y_0$ and $S(x_1) = y_1$. Let's also denote $S'(x_0) = k_0$ and $S'(x_1) = k_1$. We can write a cubic polynomial in the following symmetric form\n",
    "\n",
    "$$ S(x) = (1-t)y_0+ty_1 + t(1-t)[a(1-t)+bt] $$\n",
    "\n",
    "with $ t=\\frac{x-x_0}{\\Delta x_0}$, $\\Delta x_0 = x_1 - x_0$, $\\Delta y_0 = y_1 -y_2$,  $a=k_0\\Delta x_0- \\Delta y_0$ and $b=-k_1\\Delta x_0+\\Delta y_0$.\n",
    "\n",
    "Now we can find the first and second derivatives of this and show that\n",
    "\n",
    "$$ S'(x) = \\frac{\\Delta y_0}{\\Delta x_0} + (1-2t)\\frac{a(1-t)+bt}{\\Delta x_0} + t(1-t)\\frac{b-a}{\\Delta x_0} $$\n",
    "\n",
    "and\n",
    "\n",
    "$$ S''(x) = 2\\frac{b-2a+3t(a-b)}{\\Delta x_0^2} $$\n",
    "\n",
    "At this point you can test that the definiations we gave for $a$ and $b$ above will give us $S'(x_0)=k_0$ and $S'(x_1)=k_1$. And we can also find that\n",
    "\n",
    "$$ S''(x_0) = 2\\frac{b-2a}{\\Delta x_0^2} $$\n",
    "\n",
    "and\n",
    "\n",
    "$$ S''(x_1) = 2\\frac{a-2b}{\\Delta x_0^2} $$"
   ]
  },
  {
   "cell_type": "markdown",
   "metadata": {},
   "source": [
    "Now let's say we have some set of $n+1$ points $(x_i, y_i)$ with $0 \\le i \\le n$, such that we have $n$ intervals. For each interval we can define the cubic polynomial passing through the points bounding the interval as\n",
    "\n",
    "$$ S_i = (1-t)y_i + ty_{i+1} + t(1-t)[a_i(1-t)+b_i t] $$\n",
    "\n",
    "for $0 \\le i \\le n-1$, with $t=\\frac{x-x_i}{\\Delta x_i}$, $\\Delta x_i = x_{i+1} - x_i$, $\\Delta y_i = y_{i+1} - y_i$, $a_i=k_i\\Delta x_i-\\Delta y_i$ and $b_i=-k_{i+1}\\Delta x_i + \\Delta y_i$.\n",
    "\n",
    "If we want our interpolation to be differentiable, we need $S'_i(x_{i+1})=S'_{i+1}(x_{i+1})$, so we'll have\n",
    "\n",
    "$$\n",
    "S'_0(x_0) = k_0\\\\\n",
    "S'_i(x_{i+1}) = S'_{i+1}(x_{i+1})=k_{i+1} \\qquad 0\\le i\\le n-1 \\\\\n",
    "S'_{n-1}(x_n) = k_n.\n",
    "$$"
   ]
  },
  {
   "cell_type": "markdown",
   "metadata": {},
   "source": [
    "The trick then will be to find the $k_i$ that will also give us continuous second derivatives. So we want $S''_i(x_{i+1})=S''_{i+1}(x_{i+1})$ which gives us\n",
    "\n",
    "$$\n",
    "2 \\frac{a_1-2b_i}{\\Delta x_i^2} = 2\\frac{b_{i+1}-2a_{i+1}}{\\Delta x_{i+1}^2}\n",
    "$$\n",
    "\n",
    "Substituting in our expressions for $a_i$ and $b_i$ and simplifying we can write this as\n",
    "\n",
    "$$\n",
    "\\frac{k_i\\Delta x_i-\\Delta y_i+2k_{i+1}\\Delta x_i -2\\Delta y_i}{\\Delta x_i^2} = \\frac{-k_{i+2}\\Delta x_{i+1} + \\Delta y_{i+1}-2k_{i+1}\\Delta x_{i+1}-2\\Delta y_{i+1}}{\\Delta x_{i+1}^2}\n",
    "$$\n",
    "\n",
    "$$\n",
    "k_i \\frac{1}{\\Delta x_i} + 2 k_{i+1} \\left(\\frac{1}{\\Delta x_i} + \\frac{1}{\\Delta x_{i+1}}\\right) +k_{i+2} \\frac{1}{\\Delta x_{i+1}} = 3\\left(\\frac{\\Delta y_i}{\\Delta x_i^2} + \\frac{\\Delta y_{i+1}}{\\Delta x_{i+1}^2}\\right)\n",
    "$$\n",
    "\n",
    "for $0\\le i \\le n-2$.\n",
    "\n",
    "This means we now have a set of $n-1$ linear equations, but we have $n+1$ values of $k_i$.\n",
    "\n",
    "(Recall $k_i$ is the derivative of our interpolating function at $x_i$, so for every $x_i$ we have a $k_i$).\n",
    "\n",
    "This means we'll need to come up with two additional constraints before we can solve this system."
   ]
  },
  {
   "cell_type": "markdown",
   "metadata": {},
   "source": [
    "### Natural Cubic Splines\n",
    "\n",
    "To handle this we can impose whatever constraints we like, and this will affect how our spline behaves at the boundaries of our sampled data. The most common approach is what's known as a \"natural\" cubic spline. This replicates the behaviour of the original mechanical spline which was an elastic rod constrained to pass through a set of \"knots\" allowing a smooth curve to be drawn through them. The rod is free to take any slope as it passes through the left- and right-most knots, which effectively turns our spline into a straight line right at the boundary points. \n",
    "\n",
    "Note: there are several other approaches that could be taken, such as:\n",
    "- A *Clamped* spline, in which the value of the first derivative at the end points is specified.\n",
    "- A *Not-a-knot* spline, in which the third derivative of the interpolating function is also required to be continuous at the second and second last point.\n",
    "\n",
    "In terms of our system of equations, a natural spline means we're setting the second derivative at the boundary points to zero, which gives us the following additional constraints:\n",
    "\n",
    "$$\n",
    "S_0''(x_0) = 0 = 2\\frac{b_0-2a_0}{\\Delta x_0^2} = \\frac{2}{\\Delta x_0^2}(-k_1\\Delta x_0 + \\Delta y_0 - 2k_0\\Delta x_0 -2\\Delta y_0) \\\\\n",
    "S_{n-1}''(x_n) = 0 = 2\\frac{a_{n-1}-2b_{n-1}}{\\Delta x_{n-1}^2} = \\frac{2}{\\Delta x_{n-1}^2}(k_{n-1}\\Delta x_{n-1} + \\Delta y_{n-1} + 2k_n\\Delta x_{n-1} -2\\Delta y_{n-1}).\n",
    "$$\n",
    "\n",
    "We can rewrite these as\n",
    "\n",
    "$$\n",
    "k_0 \\frac{2}{\\Delta x_0} + k_1 \\frac{1}{\\Delta x_0} = 3 \\frac{\\Delta y_0}{\\Delta x_0^2}\\\\\n",
    "k_{n-1} \\frac{1}{\\Delta x_{n-1}} + k_n \\frac{2}{\\Delta x_{n-1}} = 3 \\frac{\\Delta y_{n-1}}{\\Delta x_{n-1}^2}\n",
    "$$\n",
    "\n",
    "And now we have $n+1$ equations for the $n+1$ unknowns $k_i$.\n",
    "\n",
    "Let's write this set of equations in terms of a matrix equation:\n",
    "$$\\begin{pmatrix} \n",
    "\\frac{2}{\\Delta x_0} & \\frac{1}{\\Delta x_1} & 0 & 0 & \\cdots & 0 \\\\\n",
    "\\frac{1}{\\Delta x_1} & 2(\\frac{1}{\\Delta x_1} + \\frac{1}{\\Delta x_2}) & \\frac{1}{\\Delta x_2} & 0 & \\cdots & 0 \\\\\n",
    "0 & \\frac{1}{\\Delta x_2} & 2(\\frac{1}{\\Delta x_2} + \\frac{1}{\\Delta x_3}) & \\frac{1}{\\Delta x_3} & \\cdots & 0 \\\\\n",
    "\\vdots & \\ddots & \\ddots & \\ddots & \\ddots & \\vdots \\\\\n",
    "0 & \\cdots & \\dots & 0 & \\frac{1}{\\Delta x_{n-1}} & \\frac{2}{\\Delta x_{n-1}}\n",
    "\\end{pmatrix}\n",
    "\\begin{pmatrix} k_0 \\\\ k_1 \\\\ k_2 \\\\ \\vdots \\\\ k_n \\end{pmatrix} =\n",
    "\\begin{pmatrix}\n",
    "3\\frac{\\Delta y_0}{\\Delta x_0^2} \\\\\n",
    "3(\\frac{\\Delta y_1}{\\Delta x_1^2} + \\frac{\\Delta y_0}{\\Delta x_0^2}) \\\\\n",
    "3(\\frac{\\Delta y_2}{\\Delta x_2^2} + \\frac{\\Delta y_1}{\\Delta x_1^2}) \\\\\n",
    "\\vdots \\\\\n",
    "3\\frac{\\Delta y_{n-1}}{\\Delta x_{n-1}^2} \\end{pmatrix}\n",
    "$$\n",
    "\n",
    "This is a tridiagonal matrix, which we saw how to solve previously. So from here we can write a Python function to perform the natural cubic spline interpolation. The matrices use the differences between consecutive elements which we can obtain from [numpy.ediff1d](https://docs.scipy.org/doc/numpy/reference/generated/numpy.ediff1d.html) or [numpy.diff](https://docs.scipy.org/doc/numpy/reference/generated/numpy.diff.html)."
   ]
  },
  {
   "cell_type": "code",
   "execution_count": null,
   "metadata": {
    "collapsed": true
   },
   "outputs": [],
   "source": [
    "def spline_interp(xvals, yvals, x):\n",
    "    '''Natural cubic spline interpolation of the value of y(x) given y(x_i)\n",
    "    \n",
    "    Parameters\n",
    "    ----------\n",
    "    xvals : float, array\n",
    "        the x-values we have sampled - they must be in increasing order.\n",
    "    yvals : float, array\n",
    "        the value of y at each x we have sampled.\n",
    "    x : float\n",
    "        the (x-axis) value at which we want to interpolate.\n",
    "    \n",
    "    Returns\n",
    "    -------\n",
    "    y : float\n",
    "        the interpolated value of y(x_interp).\n",
    "    '''\n",
    "    \n",
    "    # First we can find the x and y differences using ediff1d\n",
    "    dx = np.ediff1d(xvals)\n",
    "    dy = np.ediff1d(yvals)\n",
    "    # And let's pre-divide by dx since we usually divide by it.\n",
    "    invdx = 1.0 / dx\n",
    "    \n",
    "    # Now let's generate the packed matrix that we wish to solve\n",
    "    m_packed = np.empty((3, len(xvals))) # Initialize a 3xN array\n",
    "    m_packed[0][1:] = invdx\n",
    "    m_packed[1][0] = 2 * invdx[0]\n",
    "    m_packed[1][1:-1] = 2 * (invdx[1:] + invdx[:-1])\n",
    "    m_packed[1][-1] = 2 * invdx[-1]\n",
    "    m_packed[2][:-1] = invdx\n",
    "\n",
    "    # And the solution vector\n",
    "    b = np.empty(len(xvals))\n",
    "    b[0] = 3 * dy[0] * invdx[0]**2\n",
    "    b[1:-1] = 3 * (dy[1:]*invdx[1:]**2 + dy[:-1]*invdx[:-1]**2)\n",
    "    b[-1] = 3 * dy[-1] * invdx[-1]**2\n",
    "\n",
    "    # Solve Mk=b for a banded matrix\n",
    "    k = scipy.linalg.solve_banded((1,1), m_packed, b)\n",
    "    \n",
    "    # Now we have the ki, let's generate the cubic function in the relevant interval.\n",
    "\n",
    "    # This will give us the correct value of i for our x_interp value.\n",
    "    i = np.searchsorted(xvals, x, 'right') - 1\n",
    "    \n",
    "    # Let's do this as we laid it out above with\n",
    "    # $ S_i = (1-t)y_i + ty_{i+1} + t(1-t)[a_i(1-t)+b_i t] $\n",
    "    # with $t = \\frac{x-x_i}{\\Delta x_i} $,\n",
    "    # $ a_i=k_i\\Delta x_i-\\Delta y_i $ and $ b_i=-k_{i+1}\\Delta x_i + \\Delta y_i $.\n",
    "    t = (x - xvals[i]) * invdx[i]\n",
    "    a = k[i] * dx[i] - dy[i]\n",
    "    b = -k[i+1] * dx[i] + dy[i]\n",
    "    \n",
    "    y_interp = (1-t)*yvals[i] + t*yvals[i+1] + t*(1-t)*(a*(1-t)+b*t)\n",
    "    return y_interp"
   ]
  },
  {
   "cell_type": "code",
   "execution_count": null,
   "metadata": {},
   "outputs": [],
   "source": [
    "# Note our function has an issue right at the right hand boundary.\n",
    "# Can you see what this is? How might you fix it?\n",
    "xplt = np.linspace(0, 9.9, 100)\n",
    "plt.plot(xplt, spline_interp(x_data, y_data, xplt), 'r-', x_data, y_data, 'bo')\n",
    "plt.xlabel('x')\n",
    "plt.ylabel('Spline Interpolated y')\n",
    "plt.show()"
   ]
  },
  {
   "cell_type": "markdown",
   "metadata": {},
   "source": [
    "This looks pretty good. It smoothly goes through all the points, without deviating too far from the sampled data anywhere.\n",
    "\n",
    "Our implementation above has a noticeable inefficiency though. Can you see what it is? \n",
    "\n",
    "Hint - Look at the process we go through to generate points for the plot.\n",
    "\n",
    "How might you improve this?"
   ]
  },
  {
   "cell_type": "markdown",
   "metadata": {},
   "source": [
    "Let's also plot the approximate first and second derivative to check they are continuous"
   ]
  },
  {
   "cell_type": "code",
   "execution_count": null,
   "metadata": {},
   "outputs": [],
   "source": [
    "# Take dy/dx from our plot points to approximate the derivatives\n",
    "xplt = np.linspace(0, 9.9, 100)\n",
    "spline_vals = spline_interp(x_data, y_data, xplt)\n",
    "dspline = (spline_vals[:-1]-spline_vals[1:])/np.ediff1d(xplt)\n",
    "plt.plot(xplt[:-1], dspline, 'r-')\n",
    "plt.xlabel('x')\n",
    "plt.ylabel('Spline First Derivative')\n",
    "plt.show()\n",
    "\n",
    "ddspline = (dspline[:-1]-dspline[1:])/np.ediff1d(xplt)[:-1]\n",
    "plt.plot(xplt[:-2], ddspline, 'r-')\n",
    "plt.xlabel('x')\n",
    "plt.ylabel('Spline Second Derivative')\n",
    "plt.show()"
   ]
  },
  {
   "cell_type": "markdown",
   "metadata": {},
   "source": [
    "So we can see both the first and second derivatives seem to be continuous, and it looks like the second derivative goes to zero at the boundaries as we required for the natural spline."
   ]
  },
  {
   "cell_type": "markdown",
   "metadata": {},
   "source": [
    "## Doing this with SciPy\n",
    "\n",
    "SciPy has a range of interpolation functions available in [scipy.interpolate](https://docs.scipy.org/doc/scipy/reference/interpolate.html). There are several functions that will perform similar interpolations but with slightly different interfaces and options. Most will use the FITPACK Fortran library.\n",
    "\n",
    "Let's first try the [`interp1d`](https://docs.scipy.org/doc/scipy/reference/generated/scipy.interpolate.interp1d.html) function."
   ]
  },
  {
   "cell_type": "code",
   "execution_count": null,
   "metadata": {},
   "outputs": [],
   "source": [
    "help(scipy.interpolate.interp1d)"
   ]
  },
  {
   "cell_type": "code",
   "execution_count": null,
   "metadata": {},
   "outputs": [],
   "source": [
    "xvals = np.linspace(0, 10, 1001)\n",
    "# We use interp1d to generate an interpolating function which will return an interpolated value at any x.\n",
    "interp_func =  scipy.interpolate.interp1d(x_data, y_data, kind='cubic')\n",
    "plt.plot(xvals, interp_func(xvals), 'r-', x_data, y_data, 'bo')\n",
    "plt.xlabel('x')\n",
    "plt.ylabel('Spline Interpolated y')\n",
    "plt.show()"
   ]
  },
  {
   "cell_type": "markdown",
   "metadata": {},
   "source": [
    "If you look carefully however, you'll notice this looks a little different to the spline we generated above. Let's plot both together and see:"
   ]
  },
  {
   "cell_type": "code",
   "execution_count": null,
   "metadata": {},
   "outputs": [],
   "source": [
    "xvals = np.linspace(0, 10, 1001)\n",
    "# We use interp1d to generate an interpolating function which will return an interpolated value at any x.\n",
    "interp_func =  scipy.interpolate.interp1d(x_data, y_data, kind='cubic')\n",
    "plt.plot(xvals, interp_func(xvals), 'r-', xplt, spline_interp(x_data, y_data, xplt), 'g-')\n",
    "plt.xlabel('x')\n",
    "plt.ylabel('Spline Interpolated y')\n",
    "plt.show()"
   ]
  },
  {
   "cell_type": "code",
   "execution_count": null,
   "metadata": {},
   "outputs": [],
   "source": [
    "# Take dy/dx from our plot points to approximate the derivatives\n",
    "xplt = np.linspace(0, 9.99, 100)\n",
    "spline_vals = interp_func(xplt)\n",
    "dspline = (spline_vals[:-1]-spline_vals[1:])/np.ediff1d(xplt)\n",
    "plt.plot(xplt[:-1], dspline, 'r-')\n",
    "plt.xlabel('x')\n",
    "plt.ylabel('Spline First Derivative')\n",
    "plt.show()\n",
    "\n",
    "ddspline = (dspline[:-1]-dspline[1:])/np.ediff1d(xplt)[:-1]\n",
    "plt.plot(xplt[:-2], ddspline, 'r-')\n",
    "plt.xlabel('x')\n",
    "plt.ylabel('Spline Second Derivative')\n",
    "plt.show()"
   ]
  },
  {
   "cell_type": "markdown",
   "metadata": {},
   "source": [
    "As you can see, this is not a natural cubic spline. It is in fact a *Not-a-knot* spline, which in SciPy is typically the default for cubic splines.\n",
    "\n",
    "Another SciPy function we could use, which also has options allowing us to pick the type of cubic spline is [scipy.interpolate.CubicSpline](https://docs.scipy.org/doc/scipy/reference/generated/scipy.interpolate.CubicSpline.html). The same example as before, using this function gives us"
   ]
  },
  {
   "cell_type": "code",
   "execution_count": null,
   "metadata": {},
   "outputs": [],
   "source": [
    "xvals = np.linspace(0, 10, 1001)\n",
    "# We use CubicSpline to generate an interpolating function which will return an interpolated value at any x.\n",
    "# This has the bc_type argument we can use to pick different constraints.\n",
    "cs_interp =  scipy.interpolate.CubicSpline(x_data, y_data, bc_type='natural')\n",
    "plt.plot(x_data, y_data, 'bo', label=\"data\")\n",
    "plt.plot(xvals, cs_interp(xvals), 'r-', label=\"SciPy\")\n",
    "plt.plot(xplt, spline_interp(x_data, y_data, xplt), 'g--', label=\"Our Function\")\n",
    "plt.xlabel('x')\n",
    "plt.ylabel('Spline Interpolated y')\n",
    "plt.legend()\n",
    "plt.show()"
   ]
  },
  {
   "cell_type": "markdown",
   "metadata": {},
   "source": [
    "If you then wanted to find a root from sampled data, you could use the spline interpolator generated by SciPy together with a root finding method discussed previously. However, the [scipy.interpolate.InterpolatedUnivariateSpline](https://docs.scipy.org/doc/scipy/reference/generated/scipy.interpolate.InterpolatedUnivariateSpline.html) class can be used to do this more easily. It does not however give you an option for the type of cubic spline to use, and will always generate a \"Not-a-knot\" spline. It can be used in the same way as the other functions described above. But the object it generates also has several useful methods, such as [roots](https://docs.scipy.org/doc/scipy/reference/generated/scipy.interpolate.InterpolatedUnivariateSpline.roots.html)."
   ]
  },
  {
   "cell_type": "code",
   "execution_count": null,
   "metadata": {
    "scrolled": true
   },
   "outputs": [],
   "source": [
    "xvals = np.linspace(0, 10, 1001)\n",
    "# We use UnivariateSpline to generate an interpolating object which has several functions available.\n",
    "\n",
    "# This has the bc_type argument we can use to pick different constraints.\n",
    "us_interp =  scipy.interpolate.InterpolatedUnivariateSpline(x_data, y_data)\n",
    "plt.plot(x_data, y_data, 'bo', label=\"data\")\n",
    "plt.plot(xvals, us_interp(xvals), 'r-', label=\"SciPy\")\n",
    "plt.xlabel('x')\n",
    "plt.ylabel('Spline Interpolated y')\n",
    "plt.legend()\n",
    "plt.show()\n",
    "\n",
    "print(\"Roots of the interpolation: \", us_interp.roots())"
   ]
  }
 ],
 "metadata": {
  "celltoolbar": "Raw Cell Format",
  "kernelspec": {
   "display_name": "Python 3",
   "language": "python",
   "name": "python3"
  },
  "language_info": {
   "codemirror_mode": {
    "name": "ipython",
    "version": 3
   },
   "file_extension": ".py",
   "mimetype": "text/x-python",
   "name": "python",
   "nbconvert_exporter": "python",
   "pygments_lexer": "ipython3",
   "version": "3.5.2"
  }
 },
 "nbformat": 4,
 "nbformat_minor": 2
}
