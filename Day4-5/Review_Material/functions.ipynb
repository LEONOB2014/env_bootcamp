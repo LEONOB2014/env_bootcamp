{
 "cells": [
  {
   "cell_type": "markdown",
   "metadata": {},
   "source": [
    "# Review of Functions "
   ]
  },
  {
   "cell_type": "markdown",
   "metadata": {},
   "source": [
    "## Overview"
   ]
  },
  {
   "cell_type": "markdown",
   "metadata": {},
   "source": [
    "You are by now familiar with the basic \"pieces\" that form a program having covered variable types, conditional statements (*if* statements), aritmetic operations, string manipulations, looping and use of functions.\n",
    "\n",
    "The numerical methods component relies heavily on the use of function calls that are defined by the user and that are part of existing python libraries. We will review their creation and use here to ensure you are comfortable in using them. "
   ]
  },
  {
   "cell_type": "markdown",
   "metadata": {},
   "source": [
    "## Packaging more complex instructions"
   ]
  },
  {
   "cell_type": "markdown",
   "metadata": {},
   "source": [
    "As mentioned above, you are now equiped to tackle most problems in programming and build complex programs from the relatively simple pieces of language covered thus far. However, it is convenient, and in practical terms even essential, to provide structure to our programs by grouping instructions together in order to achieve a more complex task.\n",
    "To perform more complex operations on data we will be using two mechanisms made available by the Python language: *functions* and *methods*.\n",
    "\n",
    "So far we have already come across some simple functions, such as `type()`, `len()`, `float()`, `print()` or `range()`. To make use of a function, the general syntax is:\n",
    "\n",
    "    function_name(function_arguments)\n",
    "    \n",
    "and we will obtain the result of the function operation on the argument. In the example\n",
    "    "
   ]
  },
  {
   "cell_type": "code",
   "execution_count": null,
   "metadata": {},
   "outputs": [],
   "source": [
    "    len(\"count me in\")"
   ]
  },
  {
   "cell_type": "markdown",
   "metadata": {},
   "source": [
    "len is the function name, which as we have seen counts the number of characters in a string; \"count me in\" is the string the function is operating on; the result of the operation is on the Out[] cell. Naturaly we can store the result of the function on a variable. In the below example the returned value of len() is stored to the variable letter_count\n",
    "\n"
   ]
  },
  {
   "cell_type": "code",
   "execution_count": null,
   "metadata": {},
   "outputs": [],
   "source": [
    "    letter_count=len(\"count me in\")"
   ]
  },
  {
   "cell_type": "code",
   "execution_count": null,
   "metadata": {},
   "outputs": [],
   "source": [
    "# Verify the value of letter_count has been assigned:\n",
    "letter_count"
   ]
  },
  {
   "cell_type": "markdown",
   "metadata": {},
   "source": [
    "Functions can accept more than one argument, in which case they are separated by commas. Recall the print() function, which takes a comma separated set of arguments.\n"
   ]
  },
  {
   "cell_type": "code",
   "execution_count": null,
   "metadata": {},
   "outputs": [],
   "source": [
    "    days=365\n",
    "    print(\"A year has\",days,\"days\")"
   ]
  },
  {
   "cell_type": "markdown",
   "metadata": {},
   "source": [
    "The print functions is being called with 3 arguments, two strings and one variable which is a number. Note once more that print does not give an output, it is just printing to the screen all the arguments separated by spaces. It is thus not very useful to assign the result of print to a variable."
   ]
  },
  {
   "cell_type": "code",
   "execution_count": null,
   "metadata": {},
   "outputs": [],
   "source": [
    "    unresult=print(\"pointless\")\n",
    "    unresult"
   ]
  },
  {
   "cell_type": "markdown",
   "metadata": {},
   "source": [
    "There are a number of inbuilt functions in python to perform different tasks, these are listed in the [official documentation](http://docs.python.org/3/library/functions.html), we will make use of a few relevant ones but shall otherwise not insist on them. Much more useful will be to build our own custom made functions. We will see how to do this presently, but first we will look at another mechanism we haven't encoutered yet: *methods*.\n",
    "\n",
    "Methods are similar to functions but they are more tightly related to the objects they act on. For example, a pertinent operation when operating on strings would be to give the same string all in capital letters. This can be done via a specific string method.\n",
    "First let us define the string variable\n",
    "\n",
    "    a=\"i shall be big\""
   ]
  },
  {
   "cell_type": "code",
   "execution_count": null,
   "metadata": {},
   "outputs": [],
   "source": []
  },
  {
   "cell_type": "markdown",
   "metadata": {},
   "source": [
    "To check what specific methods are available to strings, we can write the variable name followed by a dot '.' and press the tab key on the keyboad\n",
    "\n",
    "    a."
   ]
  },
  {
   "cell_type": "code",
   "execution_count": null,
   "metadata": {},
   "outputs": [],
   "source": []
  },
  {
   "cell_type": "markdown",
   "metadata": {},
   "source": [
    "In the drop-down list all methods that can be applied to variable *a* are displayed. The method *.upper()* is the one that will perform our intended task\n",
    "\n",
    "    a.upper()"
   ]
  },
  {
   "cell_type": "code",
   "execution_count": null,
   "metadata": {},
   "outputs": [],
   "source": []
  },
  {
   "cell_type": "markdown",
   "metadata": {},
   "source": [
    "The general syntax is thus\n",
    "\n",
    "    variable_name.method_name(optional_arguments)\n",
    "\n",
    "During this course we shall not be defining our own methods, but we will be using some useful pre-existing ones."
   ]
  },
  {
   "cell_type": "markdown",
   "metadata": {},
   "source": [
    "### Defining new functions"
   ]
  },
  {
   "cell_type": "markdown",
   "metadata": {},
   "source": [
    "Any moderatly useful program can become big, encompassing hundreds or thousands of lines of code. In order to work with such codes in a manageble way, it is important to group code functionality in logical pieces that perform a specific task, and that can be reused whenever needed.\n",
    "Creating our own functions is a way of packaging such functionality.\n",
    "\n",
    "As with variables above, there is an analogy between functions in programming and in mathematics.\n",
    "A mathematical function is an operation that receives a number as an argument and returns another number based on the value of the argument. When we write the mathematical expression\n",
    "\n",
    "$$f(x)=x^2-1 ,$$\n",
    "\n",
    "we are defining an operation named $f$, which for a given value of the argument $x$ will give back a result $x^2-1$. Once more, $x$ takes one particular value at the time, it can be any value, but only one each time.\n",
    "\n",
    "While in mathematics, functions mostly receive numbers and return numbers, in programming the concept of a function is largely extended. As we've seen above for example, functions can return strings, or receive strings as arguments and return numbers, or package any other type of instruction. One simple idea remains: functions are operations that receive arguments and return a result based on the arguments it has received.\n",
    "\n",
    "Let us look at a practical example and how we would convert it into a function. Let us consider the case where we have two strings, str1 and str2, and we want to form one string from these two joined by a dash '-'.\n",
    "\n",
    "    str1=\"post\"\n",
    "    str2=\"meridiem\"\n",
    "    \n",
    "How would you accomplish the task in this case?"
   ]
  },
  {
   "cell_type": "code",
   "execution_count": null,
   "metadata": {},
   "outputs": [],
   "source": []
  },
  {
   "cell_type": "markdown",
   "metadata": {},
   "source": [
    "This task was relativelly simple, but if we want to repeat it for 300 other pairs of strings, even for such a simple task, we could benefit from encapsulating this operation into a function. We will call our function *merge*\n",
    "\n",
    "    def merge(a,b):\n",
    "        \"Merge two strings with a dash.\"\n",
    "        c= a + '-' + b\n",
    "        return c"
   ]
  },
  {
   "cell_type": "code",
   "execution_count": null,
   "metadata": {},
   "outputs": [],
   "source": []
  },
  {
   "cell_type": "markdown",
   "metadata": {},
   "source": [
    "We will analyse how the function definition works, but first you should use the function merge we just defined to accomplish the same result as above."
   ]
  },
  {
   "cell_type": "code",
   "execution_count": null,
   "metadata": {},
   "outputs": [],
   "source": []
  },
  {
   "cell_type": "markdown",
   "metadata": {},
   "source": [
    "#### Step 1: function signature"
   ]
  },
  {
   "cell_type": "markdown",
   "metadata": {},
   "source": [
    "The function *signature* corresponds to the first line in the function definition and specifies some important information\n",
    "\n",
    "    def merge(a,b):\n",
    "\n",
    "It starts with the keyword *def*, which tells Python that we are *defining* a function. Then comes a space, and the name of our function, in this case *merge*. After, an open parenthesis, the comma-separated function arguments. In this case the function has two arguments we are calling *a* and *b*. After the arguments, a close parenthesis, and a colon.\n",
    "\n",
    "The number of arguments depends highly on what the function does. We can even have a function with no arguments\n",
    "\n",
    "    def function_name():\n",
    "\n",
    "or one argument\n",
    "\n",
    "    def function_name(x1):\n",
    "\n",
    "or any other number of arguments.\n",
    "\n",
    "An important point to note is that the argument labels *a* and *b* we chose for our function are not variables we may have defined outside the function. They will be \"names\" used solely inside the function, just as the $x$ in $f(x)=x^2$ is just a label that could be called $w$ as in $f(w)=w^2$."
   ]
  },
  {
   "cell_type": "markdown",
   "metadata": {},
   "source": [
    "#### Step 1.5: document string"
   ]
  },
  {
   "cell_type": "markdown",
   "metadata": {},
   "source": [
    "After our signature line we can add a piece of text enclosed in quotes explaining to the human reader what the function is doing. This is calles a *docstring*.\n",
    "\n",
    "    def merge(a,b):\n",
    "        \"Merge two strings with a dash.\"\n",
    "        \n",
    "This is a matter of best practice. The docstring has no effect on the operation of the function, but when functions get very complicated and many lines long, or we start having many functions to work with, it is very useful to have a short explanation text.\n",
    "\n",
    "The docstring is shown when the question mark is used to gather information about the function\n",
    "\n",
    "    merge?"
   ]
  },
  {
   "cell_type": "code",
   "execution_count": null,
   "metadata": {},
   "outputs": [],
   "source": []
  },
  {
   "cell_type": "markdown",
   "metadata": {},
   "source": [
    "#### Step 2: do useful work inside the function"
   ]
  },
  {
   "cell_type": "markdown",
   "metadata": {},
   "source": [
    "Underneath the function signature and document string  we do the useful work. As with if statements and loops before, **everything inside the function is indented**, so Python knows that it is a part of the function.\n",
    "\n",
    "    def merge(a,b):\n",
    "        \"Merge two strings with a dash.\"\n",
    "        c= a + '-' + b\n",
    "        \n",
    "In the function body we can use the function arguments *a* and *b* just as we have used variables. In this case we are storing the result of the operation *a + '-' + b* into the local variable *c*. It is important to note that both the function arguments *a* and *b*, as well as variables defined inside the function, are not afected by the values of the variables of the same name defined outside the function\n",
    "\n",
    "    a=1\n",
    "    b=2\n",
    "    c=3\n",
    "    merge('no','entry')"
   ]
  },
  {
   "cell_type": "code",
   "execution_count": null,
   "metadata": {},
   "outputs": [],
   "source": []
  },
  {
   "cell_type": "markdown",
   "metadata": {},
   "source": [
    "We can check what value the variable c at the moment\n",
    "\n",
    "    c"
   ]
  },
  {
   "cell_type": "code",
   "execution_count": null,
   "metadata": {},
   "outputs": [],
   "source": []
  },
  {
   "cell_type": "markdown",
   "metadata": {},
   "source": [
    "We see that even though there is a variable *c* inside the function *merge*, which when we call the function will assume a given value, that variable is local to the function and is isolated from the global variable with the same name *c*, which conserves the same value as before."
   ]
  },
  {
   "cell_type": "markdown",
   "metadata": {},
   "source": [
    "#### Step 3: return something"
   ]
  },
  {
   "cell_type": "code",
   "execution_count": null,
   "metadata": {},
   "outputs": [],
   "source": []
  },
  {
   "cell_type": "markdown",
   "metadata": {},
   "source": [
    "Although it is possible to create functions which produce no output (the function *print* is an example of this), most functions yield an output of one form or the other, such that it can be assigned to a variable.\n",
    "\n",
    "The output of a function is controled by the *return* keyword\n",
    "\n",
    "    def merge(a,b):\n",
    "        \"Merge two strings with a dash.\"\n",
    "        c= a + '-' + b\n",
    "        return c\n",
    "\n",
    "In the case of the function *merge*, the output will be the value of the local variable *c* defined in the body of the function.\n",
    "\n",
    "We could have defined the function *merge* without making use of the local variable *c* and giving exactly the same output\n",
    "\n",
    "    def merge(a,b):\n",
    "        \"Merge two strings with a dash.\"\n",
    "        return a + '-' + b\n",
    "        \n",
    "\n",
    "Once the *return* statement of the function is executed, we are done with the function -- we don't get to do any more work. That means if we have a function like this:\n",
    "\n",
    "    def merge(a,b):\n",
    "        \"Merge two strings with a dash.\"\n",
    "        c= a + '-' + b\n",
    "        return c\n",
    "        print(\"This is meant to be really clever!\")\n",
    "        \n",
    "The print statement will never be executed. Take a moment now to try it below."
   ]
  },
  {
   "cell_type": "code",
   "execution_count": null,
   "metadata": {},
   "outputs": [],
   "source": []
  },
  {
   "cell_type": "markdown",
   "metadata": {},
   "source": [
    "Now that we covered how to define functions, define the function $f(x)=x^2-1$ we considered above. Do not forget to give an appropriate docstring."
   ]
  },
  {
   "cell_type": "code",
   "execution_count": null,
   "metadata": {},
   "outputs": [],
   "source": []
  },
  {
   "cell_type": "markdown",
   "metadata": {},
   "source": [
    "Use the function to produce a list with the results of the function $f$ for integer values of the argument between 0 and 10."
   ]
  },
  {
   "cell_type": "code",
   "execution_count": null,
   "metadata": {},
   "outputs": [],
   "source": []
  },
  {
   "cell_type": "markdown",
   "metadata": {},
   "source": [
    "## Summary"
   ]
  },
  {
   "cell_type": "markdown",
   "metadata": {},
   "source": [
    "Even simple programs can quickly grow to hundreds or thousands of code lines. Structuring programs using functions and methods is essential to make programs scallable and manageable.\n",
    "\n",
    "Functions in programming are similar to functions in mathematics, except that they are not limited to dealing with numbers. Functions are operations that receive arguments and return a result based on the arguments it has received."
   ]
  },
  {
   "cell_type": "markdown",
   "metadata": {},
   "source": [
    "## Exercises"
   ]
  },
  {
   "cell_type": "markdown",
   "metadata": {},
   "source": [
    "In these exercises you will write functions that perform a particular task. For the exercises we are using this docstring to specify how we want the function to behave. It shows examples of the function being used along with what output we expect to be produced.\n",
    "\n",
    "The exercises consist in **completing** the body of the function (bellow the docstring) such as to achieve the desired functionality. You should also test the functions on seperate cells to check they are working as intended."
   ]
  },
  {
   "cell_type": "markdown",
   "metadata": {},
   "source": [
    "### Stretch string"
   ]
  },
  {
   "cell_type": "markdown",
   "metadata": {},
   "source": [
    "Given a string and an integer *stretch_number*, return a string in which each character of the original string is repeated stretch_number times."
   ]
  },
  {
   "cell_type": "code",
   "execution_count": null,
   "metadata": {},
   "outputs": [],
   "source": [
    "def stretch_string(string, stretch_number):\n",
    "    r'''\n",
    "    >>> stretch_string('banana', 2)\n",
    "    'bbaannaannaa'\n",
    "    >>> stretch_string('apple', 3)\n",
    "    'aaappppppllleee'\n",
    "    >>> stretch_string('fig', 4)\n",
    "    'ffffiiiigggg'\n",
    "    '''"
   ]
  },
  {
   "cell_type": "code",
   "execution_count": null,
   "metadata": {},
   "outputs": [],
   "source": []
  },
  {
   "cell_type": "markdown",
   "metadata": {},
   "source": [
    "### Mean"
   ]
  },
  {
   "cell_type": "markdown",
   "metadata": {},
   "source": [
    "The NumPy package has the function `mean()` to calculate the mean value given a list (or array), but we shall do our own below for the sake of practicing function creation."
   ]
  },
  {
   "cell_type": "code",
   "execution_count": null,
   "metadata": {},
   "outputs": [],
   "source": [
    "def average(data):\n",
    "    r'''\n",
    "    >>> our_mean([1,2,3])\n",
    "    2.0\n",
    "    >>> our_mean([1,10,100])\n",
    "    37.0\n",
    "    >>> our_mean([0.12,-5,1/137,-3.14159265])\n",
    "    -2.0035733449817519\n",
    "    '''"
   ]
  },
  {
   "cell_type": "code",
   "execution_count": null,
   "metadata": {},
   "outputs": [],
   "source": []
  },
  {
   "cell_type": "markdown",
   "metadata": {},
   "source": [
    "### Standard deviation"
   ]
  },
  {
   "cell_type": "markdown",
   "metadata": {},
   "source": [
    "Use your function average() you produced above, to create a function that gives the sample standard deviation of a list. As a reminder, the standard deviation can be calculated as\n",
    "\n",
    "$$s_x=\\sqrt{\\frac{\\sum_{i=1}^N (x_i-\\bar{x})^2}{N-1}}$$\n",
    "\n",
    "where $\\bar{x}$ is the sample mean."
   ]
  },
  {
   "cell_type": "code",
   "execution_count": null,
   "metadata": {},
   "outputs": [],
   "source": [
    "def our_std(data):\n",
    "    r'''\n",
    "    >>> our_std([1,2,3])\n",
    "    1.0\n",
    "    >>> our_std([1,10,100])\n",
    "    54.74486277268398\n",
    "    >>> our_std([0.12,-5,1/137,-3.14159265])\n",
    "    2.5051169675281404\n",
    "    '''"
   ]
  },
  {
   "cell_type": "code",
   "execution_count": null,
   "metadata": {},
   "outputs": [],
   "source": [
    "# Recall if you wish to have the information stored in the docstring \n",
    "# shown use the function followed by a question mark.\n",
    "our_std?"
   ]
  },
  {
   "cell_type": "markdown",
   "metadata": {},
   "source": [
    "##  Using a main() Function"
   ]
  },
  {
   "cell_type": "markdown",
   "metadata": {},
   "source": [
    "A slightly modified version of the previous example is given in\n",
    "`func_average2.py`:\n",
    "\n"
   ]
  },
  {
   "cell_type": "code",
   "execution_count": null,
   "metadata": {},
   "outputs": [],
   "source": [
    "def average(nums):\n",
    "    \"\"\"Return the average of a group of numbers.\"\"\"\n",
    "    return sum(nums)/len(nums)\n",
    "\n",
    "def main():\n",
    "    test_nums = 1, 2, 3, 4, 5\n",
    "    print(\"The average of these numbers is\", average(test_nums))\n",
    "\n",
    "if __name__ == '__main__':\n",
    "    main()\n"
   ]
  },
  {
   "cell_type": "markdown",
   "metadata": {},
   "source": [
    "This is the standard way to construct a python code, and you'll often see\n",
    "this in examples of python script elsewhere. Here we have a created a function\n",
    "called main which contains the code we have in the main body previously,\n",
    "and we have an if statement at the end, which performs a special action.\n",
    "When a python code is loaded, a number of internal variables are set. One of\n",
    "these is `__name__`. If the code is executed directly, the value of this is\n",
    "set to `__main__`. However, if the code is imported, this is instead set to\n",
    "the name of the module. So in the latter case, the `main()` function is\n",
    "not called. This allows us to import our python code as a module and use\n",
    "our functions in other python scripts."
   ]
  },
  {
   "cell_type": "markdown",
   "metadata": {},
   "source": [
    "## General Advice on Functions\n",
    "\n",
    "\n",
    "* Try to keep functions fairly short. It makes your code much easier to read\n",
    "if your functions are short enough that you can see the whole function at\n",
    "once on your screen.\n",
    "* Try to keep functions specialised. Break up your problem into small chunks\n",
    "where you can use functions that do one thing well. This will make it much\n",
    "easier to debug your code when something inevitably doesn't work as\n",
    "expected.\n",
    "* Use the construction given in `func_average2` where any main body of the\n",
    "code is contained in a `main()` function. This will make it easier to test\n",
    "your code and expand it later should you desire.\n",
    "* Always use a docstring. In short codes, or for fairly straightforward\n",
    "functions, this can be a brief one-line description. For more complex codes\n",
    "it is worth writing more detailed, multi-line descriptions of what functions\n",
    "do. These should still begin with a single summary line. This would be\n",
    "followed by an empty line, and then several lines giving details of the\n",
    "function, what arguments it expects, etc. Python docstring conventions are\n",
    "described in PEP 257."
   ]
  },
  {
   "cell_type": "code",
   "execution_count": null,
   "metadata": {},
   "outputs": [],
   "source": []
  }
 ],
 "metadata": {
  "kernelspec": {
   "display_name": "Python 3",
   "language": "python",
   "name": "python3"
  },
  "language_info": {
   "codemirror_mode": {
    "name": "ipython",
    "version": 3
   },
   "file_extension": ".py",
   "mimetype": "text/x-python",
   "name": "python",
   "nbconvert_exporter": "python",
   "pygments_lexer": "ipython3",
   "version": "3.5.2"
  }
 },
 "nbformat": 4,
 "nbformat_minor": 1
}
