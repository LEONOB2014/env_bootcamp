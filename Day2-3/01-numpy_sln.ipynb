{
 "cells": [
  {
   "cell_type": "markdown",
   "metadata": {},
   "source": [
    "# Analysing patient data\n",
    "\n",
    "## Learning Objectives\n",
    "\n",
    "*   Explain what a library is, and what libraries are used for.\n",
    "*   Load a Python library and use the things it contains.\n",
    "*   Read tabular data from a file into a program.\n",
    "*   Assign values to variables.\n",
    "*   Select individual values and subsections from data.\n",
    "*   Perform operations on arrays of data.\n",
    "*   Display simple graphs.\n",
    "\n"
   ]
  },
  {
   "cell_type": "markdown",
   "metadata": {},
   "source": [
    "To run the code in a cell, press:\n",
    "- **Ctrl - Enter**  (stays in the current cell) *or*\n",
    "- **Shift - Enter** (advances to the next cell)."
   ]
  },
  {
   "cell_type": "markdown",
   "metadata": {},
   "source": [
    "To quickly create a new cell below an existing one, type **Ctrl-m** then **b**.\n",
    "Other shortcuts for making, deleting, and moving cells are in the menubar at the top of the\n",
    "screen."
   ]
  },
  {
   "cell_type": "markdown",
   "metadata": {},
   "source": [
    "## Variables"
   ]
  },
  {
   "cell_type": "markdown",
   "metadata": {},
   "source": [
    "Any Python interpreter can be used as a calculator:"
   ]
  },
  {
   "cell_type": "code",
   "execution_count": 6,
   "metadata": {},
   "outputs": [
    {
     "data": {
      "text/plain": [
       "23"
      ]
     },
     "execution_count": 6,
     "metadata": {},
     "output_type": "execute_result"
    }
   ],
   "source": [
    "3 + 5 * 4"
   ]
  },
  {
   "cell_type": "markdown",
   "metadata": {},
   "source": [
    "This is great but not very interesting. To do anything useful with data, we need to assign its value to a variable. \n",
    "In Python, we can assign a value to a variable, using the equals sign `=`. For example, to assign value `60` to \n",
    "a variable `weight_kg`, we would execute:"
   ]
  },
  {
   "cell_type": "code",
   "execution_count": 8,
   "metadata": {},
   "outputs": [],
   "source": [
    "weight_kg=60"
   ]
  },
  {
   "cell_type": "markdown",
   "metadata": {},
   "source": [
    "From now on, whenever we use `weight_kg`, Python will substitute the value we assigned to it. In essence, \n",
    "**a variable is just a name for a value**.\n",
    "\n",
    "In Python, variable names:\n",
    "\n",
    "* can include letters, digits, and underscores\n",
    "* cannot start with a digit\n",
    "* are case sensitive.\n",
    "\n",
    "This means that, for example:\n",
    "\n",
    "* `weight0` is a valid variable name, whereas `0weight` is not\n",
    "* `weight` and `Weight` are different variables"
   ]
  },
  {
   "cell_type": "markdown",
   "metadata": {},
   "source": [
    "## Types of data"
   ]
  },
  {
   "cell_type": "markdown",
   "metadata": {},
   "source": [
    "Python knows various types of data. Three common ones are:\n",
    "\n",
    "* integer numbers\n",
    "* floating point numbers, and\n",
    "* strings.\n",
    "\n",
    "In the example above, variable `weight_kg` has an integer value of `60`. To create a variable with a floating point value, we can execute:"
   ]
  },
  {
   "cell_type": "code",
   "execution_count": 9,
   "metadata": {},
   "outputs": [],
   "source": [
    "weight_kg=60.0"
   ]
  },
  {
   "cell_type": "markdown",
   "metadata": {},
   "source": [
    "And to create a string we simply have to add single or double quotes around some text, for example:"
   ]
  },
  {
   "cell_type": "code",
   "execution_count": 10,
   "metadata": {},
   "outputs": [],
   "source": [
    "weight_kg_text = 'weight in kilograms:'"
   ]
  },
  {
   "cell_type": "markdown",
   "metadata": {},
   "source": [
    "## Using Variables in Python"
   ]
  },
  {
   "cell_type": "markdown",
   "metadata": {},
   "source": [
    "To display the value of a variable to the screen in Python, we can use the `print` function:"
   ]
  },
  {
   "cell_type": "code",
   "execution_count": 11,
   "metadata": {},
   "outputs": [
    {
     "name": "stdout",
     "output_type": "stream",
     "text": [
      "60.0\n"
     ]
    }
   ],
   "source": [
    "print(weight_kg)"
   ]
  },
  {
   "cell_type": "markdown",
   "metadata": {},
   "source": [
    "We can display multiple things at once using only one `print` command:"
   ]
  },
  {
   "cell_type": "code",
   "execution_count": 12,
   "metadata": {},
   "outputs": [
    {
     "name": "stdout",
     "output_type": "stream",
     "text": [
      "weight in kilograms: 60.0\n"
     ]
    }
   ],
   "source": [
    "print(weight_kg_text, weight_kg)"
   ]
  },
  {
   "cell_type": "markdown",
   "metadata": {},
   "source": [
    "Moreover, we can do arithmetics with variables right inside the `print` function:"
   ]
  },
  {
   "cell_type": "code",
   "execution_count": 16,
   "metadata": {},
   "outputs": [
    {
     "name": "stdout",
     "output_type": "stream",
     "text": [
      "weight in pounds: 132.0\n"
     ]
    }
   ],
   "source": [
    "# There are 2.2 pounds per kilogram\n",
    "print('weight in pounds:', 2.2 * weight_kg)"
   ]
  },
  {
   "cell_type": "markdown",
   "metadata": {},
   "source": [
    "**NOTE**: In the above cell, the line sarts with # is a comment and is ignored by the Python interpreter.\n",
    "\n",
    "The above command, however, did not change the value of `weight_kg`:"
   ]
  },
  {
   "cell_type": "code",
   "execution_count": 14,
   "metadata": {},
   "outputs": [
    {
     "name": "stdout",
     "output_type": "stream",
     "text": [
      "60.0\n"
     ]
    }
   ],
   "source": [
    "print(weight_kg)"
   ]
  },
  {
   "cell_type": "markdown",
   "metadata": {},
   "source": [
    "To change the value of the `weight_kg` variable, we have to **assign** `weight_kg` a new value using the equals `=` sign:"
   ]
  },
  {
   "cell_type": "code",
   "execution_count": 3,
   "metadata": {
    "attributes": {
     "classes": [
      " {.python"
     ],
     "id": ""
    },
    "scrolled": false
   },
   "outputs": [
    {
     "name": "stdout",
     "output_type": "stream",
     "text": [
      "weight in kilograms is now: 65.0\n"
     ]
    }
   ],
   "source": [
    "weight_kg = 65.0\n",
    "print('weight in kilograms is now:', weight_kg)"
   ]
  },
  {
   "cell_type": "markdown",
   "metadata": {},
   "source": [
    "## Variables as Sticky Notes\n",
    "\n",
    "If we imagine the variable as a sticky note with a name written on it,\n",
    "assignment is like putting the sticky note on a particular value:\n",
    "\n",
    "![Variables as Sticky Notes](fig/python-sticky-note-variables-01.svg)\n",
    "\n",
    "This means that assigning a value to one variable does *not* change the values of other variables.\n",
    "For example,\n",
    "let's store the subject's weight in pounds in a variable:"
   ]
  },
  {
   "cell_type": "code",
   "execution_count": 4,
   "metadata": {
    "attributes": {
     "classes": [
      " {.python"
     ],
     "id": ""
    },
    "scrolled": false
   },
   "outputs": [
    {
     "name": "stdout",
     "output_type": "stream",
     "text": [
      "weight in kilograms: 65.0 and in pounds: 143.0\n"
     ]
    }
   ],
   "source": [
    "weight_lb = 2.2 * weight_kg\n",
    "print('weight in kilograms:', weight_kg, 'and in pounds:', weight_lb)"
   ]
  },
  {
   "cell_type": "markdown",
   "metadata": {},
   "source": [
    "![Creating Another Variable](fig/python-sticky-note-variables-02.svg)\n",
    "\n",
    "and then change `weight_kg`:"
   ]
  },
  {
   "cell_type": "code",
   "execution_count": 5,
   "metadata": {
    "attributes": {
     "classes": [
      " {.python"
     ],
     "id": ""
    },
    "scrolled": false
   },
   "outputs": [
    {
     "name": "stdout",
     "output_type": "stream",
     "text": [
      "weight in kilograms is now: 100.0 and weight in pounds is still: 143.0\n"
     ]
    }
   ],
   "source": [
    "weight_kg = 100.0\n",
    "print('weight in kilograms is now:', weight_kg, 'and weight in pounds is still:', weight_lb)"
   ]
  },
  {
   "cell_type": "markdown",
   "metadata": {},
   "source": [
    "![Updating a Variable](fig/python-sticky-note-variables-03.svg)\n",
    "\n",
    "Since `weight_lb` doesn't \"remember\" where its value came from,\n",
    "it isn't automatically updated when `weight_kg` changes.\n",
    "This is different from the way spreadsheets work."
   ]
  },
  {
   "cell_type": "code",
   "execution_count": null,
   "metadata": {},
   "outputs": [],
   "source": []
  },
  {
   "cell_type": "markdown",
   "metadata": {},
   "source": [
    "Words are useful,\n",
    "but what's more useful are the sentences and stories we build with them.\n",
    "Similarly,\n",
    "while a lot of powerful tools are built into languages like Python,\n",
    "even more live in the [libraries](http://swcarpentry.github.io/python-novice-inflammation/reference/#library) they are used to build."
   ]
  },
  {
   "cell_type": "markdown",
   "metadata": {},
   "source": [
    "## Loading data into Python\n",
    "In order to load our inflammation data,\n",
    "we need to [import](http://swcarpentry.github.io/python-novice-inflammation/reference/#import) a library called NumPy.\n",
    "In general you should use this library if you want to do fancy things with numbers,\n",
    "especially if you have matrices or arrays.\n",
    "We can load NumPy using:"
   ]
  },
  {
   "cell_type": "code",
   "execution_count": 18,
   "metadata": {
    "attributes": {
     "classes": [
      " {.python"
     ],
     "id": ""
    },
    "scrolled": false
   },
   "outputs": [],
   "source": [
    "import numpy"
   ]
  },
  {
   "cell_type": "markdown",
   "metadata": {},
   "source": [
    "Importing a library is like getting a piece of lab equipment out of a storage locker\n",
    "and setting it up on the bench.\n",
    "Once you've loaded the library,\n",
    "we can ask the library to read our data file for us:"
   ]
  },
  {
   "cell_type": "code",
   "execution_count": 22,
   "metadata": {
    "attributes": {
     "classes": [
      " {.python"
     ],
     "id": ""
    },
    "scrolled": false
   },
   "outputs": [
    {
     "data": {
      "text/plain": [
       "array([[0., 0., 1., ..., 3., 0., 0.],\n",
       "       [0., 1., 2., ..., 1., 0., 1.],\n",
       "       [0., 1., 1., ..., 2., 1., 1.],\n",
       "       ...,\n",
       "       [0., 1., 1., ..., 1., 1., 1.],\n",
       "       [0., 0., 0., ..., 0., 2., 0.],\n",
       "       [0., 0., 1., ..., 1., 1., 0.]])"
      ]
     },
     "execution_count": 22,
     "metadata": {},
     "output_type": "execute_result"
    }
   ],
   "source": [
    "numpy.loadtxt(fname='data/inflammation-01.csv', delimiter=',')"
   ]
  },
  {
   "cell_type": "markdown",
   "metadata": {},
   "source": [
    "The expression `numpy.loadtxt(...)` is a [function call](http://swcarpentry.github.io/python-novice-inflammation/reference/#function-call)\n",
    "that asks Python to run the function `loadtxt` that belongs to the `numpy` library.\n",
    "This [dotted notation](http://swcarpentry.github.io/python-novice-inflammation/reference/#dotted-notation) is used everywhere in Python\n",
    "to refer to the parts of things as `thing.component`.\n",
    "\n",
    "`numpy.loadtxt` has two [parameters](http://swcarpentry.github.io/python-novice-inflammation/reference/#parameter):\n",
    "the name of the file we want to read,\n",
    "and the [delimiter](http://swcarpentry.github.io/python-novice-inflammation/reference/#delimiter) that separates values on a line.\n",
    "These both need to be character strings (or [strings](http://swcarpentry.github.io/python-novice-inflammation/reference/#string) for short),\n",
    "so we put them in quotes.\n",
    "\n",
    "When we are finished typing and press Shift+Enter,\n",
    "the notebook runs our command.\n",
    "Since we haven't told it to do anything else with the function's output,\n",
    "the notebook displays it.\n",
    "In this case,\n",
    "that output is the data we just loaded.\n",
    "By default,\n",
    "only a few rows and columns are shown\n",
    "(with `...` to omit elements when displaying big arrays).\n",
    "To save space,\n",
    "Python displays numbers as `1.` instead of `1.0`\n",
    "when there's nothing interesting after the decimal point.\n",
    "\n",
    "Our call to `numpy.loadtxt` read our file,\n",
    "but didn't save the data in memory.\n",
    "To do that,\n",
    "we need to [assign](http://swcarpentry.github.io/python-novice-inflammation/reference/#assignment) the array to a [variable](http://swcarpentry.github.io/python-novice-inflammation/reference/#variable).\n",
    "A variable is just a name for a value,\n",
    "such as `x`, `current_temperature`, or `subject_id`.\n",
    "Python's variables must begin with a letter and are [case sensitive](http://swcarpentry.github.io/python-novice-inflammation/reference/#case-sensitive).\n",
    "We can create a new variable by assigning a value to it using `=`.\n",
    "As an illustration,\n",
    "let's step back and instead of considering a table of data,\n",
    "consider the simplest \"collection\" of data,\n",
    "a single value.\n",
    "The line below assigns the value `55` to a variable `weight_kg`:"
   ]
  },
  {
   "cell_type": "code",
   "execution_count": 23,
   "metadata": {
    "attributes": {
     "classes": [
      " {.python"
     ],
     "id": ""
    },
    "scrolled": false
   },
   "outputs": [],
   "source": [
    "data = numpy.loadtxt(fname='data/inflammation-01.csv', delimiter=',')"
   ]
  },
  {
   "cell_type": "markdown",
   "metadata": {},
   "source": [
    "This statement doesn't produce any output because assignment doesn't display anything.\n",
    "If we want to check that our data has been loaded,\n",
    "we can print the variable's value:"
   ]
  },
  {
   "cell_type": "code",
   "execution_count": 24,
   "metadata": {
    "attributes": {
     "classes": [
      " {.python"
     ],
     "id": ""
    },
    "scrolled": false
   },
   "outputs": [
    {
     "name": "stdout",
     "output_type": "stream",
     "text": [
      "[[0. 0. 1. ... 3. 0. 0.]\n",
      " [0. 1. 2. ... 1. 0. 1.]\n",
      " [0. 1. 1. ... 2. 1. 1.]\n",
      " ...\n",
      " [0. 1. 1. ... 1. 1. 1.]\n",
      " [0. 0. 0. ... 0. 2. 0.]\n",
      " [0. 0. 1. ... 1. 1. 0.]]\n"
     ]
    }
   ],
   "source": [
    "print(data)"
   ]
  },
  {
   "cell_type": "markdown",
   "metadata": {},
   "source": [
    "Now that our data is in memory,\n",
    "we can start doing things with it.\n",
    "First,\n",
    "let's ask what [type](http://swcarpentry.github.io/python-novice-inflammation/reference/#type) of thing `data` refers to:"
   ]
  },
  {
   "cell_type": "code",
   "execution_count": 25,
   "metadata": {
    "attributes": {
     "classes": [
      " {.python"
     ],
     "id": ""
    },
    "scrolled": false
   },
   "outputs": [
    {
     "name": "stdout",
     "output_type": "stream",
     "text": [
      "<class 'numpy.ndarray'>\n"
     ]
    }
   ],
   "source": [
    "print(type(data))"
   ]
  },
  {
   "cell_type": "markdown",
   "metadata": {},
   "source": [
    "The output tells us that `data` currently refers to an N-dimensional array created by the NumPy library. These data correspond to arthritis patients’ inflammation. The rows are the individual patients, and the columns are their daily inflammation measurements."
   ]
  },
  {
   "cell_type": "markdown",
   "metadata": {},
   "source": [
    "## Data Type\n",
    "A Numpy array contains one or more elements of the same type. The `type` function will only tell you that a variable is a NumPy array but won’t tell you the type of thing inside the array. We can find out the type of the data contained in the NumPy array."
   ]
  },
  {
   "cell_type": "code",
   "execution_count": 26,
   "metadata": {},
   "outputs": [
    {
     "name": "stdout",
     "output_type": "stream",
     "text": [
      "float64\n"
     ]
    }
   ],
   "source": [
    "print(data.dtype)"
   ]
  },
  {
   "cell_type": "markdown",
   "metadata": {},
   "source": [
    "This tells us that the NumPy array’s elements are floating-point numbers."
   ]
  },
  {
   "cell_type": "markdown",
   "metadata": {},
   "source": [
    "With the following command, we can see the array’s [shape](http://swcarpentry.github.io/python-novice-inflammation/reference/#shape):"
   ]
  },
  {
   "cell_type": "code",
   "execution_count": 28,
   "metadata": {
    "attributes": {
     "classes": [
      " {.python"
     ],
     "id": ""
    },
    "scrolled": false
   },
   "outputs": [
    {
     "name": "stdout",
     "output_type": "stream",
     "text": [
      "(60, 40)\n"
     ]
    }
   ],
   "source": [
    "print(data.shape)"
   ]
  },
  {
   "cell_type": "markdown",
   "metadata": {},
   "source": [
    "This tells us that `data` has 60 rows and 40 columns. When we created the\n",
    "variable `data` to store our arthritis data, we didn't just create the array, we also\n",
    "created information about the array, called [members](http://swcarpentry.github.io/python-novice-inflammation/reference/#member) or\n",
    "attributes. This extra information describes `data` in\n",
    "the same way an adjective describes a noun.\n",
    "`data.shape` is an attribute  of `data` which described the dimensions of `data`.\n",
    "We use the same dotted notation for the attributes of variables\n",
    "that we use for the functions in libraries\n",
    "because they have the same part-and-whole relationship.\n",
    "\n",
    "If we want to get a single number from the array,\n",
    "we must provide an [index](http://swcarpentry.github.io/python-novice-inflammation/reference/#index) in square brackets,\n",
    "just as we do in math when referring to an element of matrix.  Our inflammation data has two dimensions, so we will need to use two indices to refer to one specific value:"
   ]
  },
  {
   "cell_type": "code",
   "execution_count": 29,
   "metadata": {
    "attributes": {
     "classes": [
      " {.python"
     ],
     "id": ""
    },
    "scrolled": false
   },
   "outputs": [
    {
     "name": "stdout",
     "output_type": "stream",
     "text": [
      "first value in data: 0.0\n"
     ]
    }
   ],
   "source": [
    "print('first value in data:', data[0, 0])"
   ]
  },
  {
   "cell_type": "code",
   "execution_count": 30,
   "metadata": {
    "attributes": {
     "classes": [
      " {.python"
     ],
     "id": ""
    },
    "scrolled": false
   },
   "outputs": [
    {
     "name": "stdout",
     "output_type": "stream",
     "text": [
      "middle value in data: 13.0\n"
     ]
    }
   ],
   "source": [
    "print('middle value in data:', data[30, 20])"
   ]
  },
  {
   "cell_type": "markdown",
   "metadata": {},
   "source": [
    "The expression `data[30, 20]` may not surprise you,\n",
    "but `data[0, 0]` might.\n",
    "Programming languages like Fortran and MATLAB start counting at 1,\n",
    "because that's what human beings have done for thousands of years.\n",
    "Languages in the C family (including C++, Java, Perl, and Python) count from 0\n",
    "because that's simpler for computers to do.\n",
    "As a result,\n",
    "if we have an M&times;N array in Python,\n",
    "its indices go from 0 to M-1 on the first axis\n",
    "and 0 to N-1 on the second.\n",
    "It takes a bit of getting used to,\n",
    "but one way to remember the rule is that\n",
    "the index is how many steps we have to take from the start to get the item we want.\n",
    "![Updating a Variable](fig/python-zero-index.png)"
   ]
  },
  {
   "cell_type": "markdown",
   "metadata": {},
   "source": [
    "## In the Corner\n",
    "\n",
    "> What may also surprise you is that when Python displays an array,\n",
    "> it shows the element with index `[0, 0]` in the upper left corner\n",
    "> rather than the lower left.\n",
    "> This is consistent with the way mathematicians draw matrices,\n",
    "> but different from the Cartesian coordinates.\n",
    "> The indices are (row, column) instead of (column, row) for the same reason,\n",
    "> which can be confusing when plotting data."
   ]
  },
  {
   "cell_type": "markdown",
   "metadata": {},
   "source": [
    "## Slicing data\n",
    "An index like `[30, 20]` selects a single element of an array,\n",
    "but we can select whole sections as well.\n",
    "For example,\n",
    "we can select the first ten days (columns) of values\n",
    "for the first four (rows) patients like this:"
   ]
  },
  {
   "cell_type": "code",
   "execution_count": null,
   "metadata": {
    "attributes": {
     "classes": [
      " {.python"
     ],
     "id": ""
    },
    "scrolled": false
   },
   "outputs": [],
   "source": [
    "print(data[0:4, 0:10])"
   ]
  },
  {
   "cell_type": "markdown",
   "metadata": {},
   "source": [
    "The [slice](http://swcarpentry.github.io/python-novice-inflammation/reference/#slice) `0:4` means,\n",
    "\"Start at index 0 and go up to, but not including, index 4.\"\n",
    "Again,\n",
    "the up-to-but-not-including takes a bit of getting used to,\n",
    "but the rule is that the difference between the upper and lower bounds is the number of values in the slice.\n",
    "\n",
    "We don't have to start slices at 0:"
   ]
  },
  {
   "cell_type": "code",
   "execution_count": 32,
   "metadata": {
    "attributes": {
     "classes": [
      " {.python"
     ],
     "id": ""
    },
    "scrolled": false
   },
   "outputs": [
    {
     "name": "stdout",
     "output_type": "stream",
     "text": [
      "[[0. 0. 1. 2. 2. 4. 2. 1. 6. 4.]\n",
      " [0. 0. 2. 2. 4. 2. 2. 5. 5. 8.]\n",
      " [0. 0. 1. 2. 3. 1. 2. 3. 5. 3.]\n",
      " [0. 0. 0. 3. 1. 5. 6. 5. 5. 8.]\n",
      " [0. 1. 1. 2. 1. 3. 5. 3. 5. 8.]]\n"
     ]
    }
   ],
   "source": [
    "print(data[5:10, 0:10])"
   ]
  },
  {
   "cell_type": "markdown",
   "metadata": {},
   "source": [
    "We also don't have to include the upper and lower bound on the slice.\n",
    "If we don't include the lower bound,\n",
    "Python uses 0 by default;\n",
    "if we don't include the upper,\n",
    "the slice runs to the end of the axis,\n",
    "and if we don't include either\n",
    "(i.e., if we just use ':' on its own),\n",
    "the slice includes everything:"
   ]
  },
  {
   "cell_type": "code",
   "execution_count": 33,
   "metadata": {
    "attributes": {
     "classes": [
      " {.python"
     ],
     "id": ""
    },
    "scrolled": false
   },
   "outputs": [
    {
     "name": "stdout",
     "output_type": "stream",
     "text": [
      "small is:\n",
      "[[2. 3. 0. 0.]\n",
      " [1. 1. 0. 1.]\n",
      " [2. 2. 1. 1.]]\n"
     ]
    }
   ],
   "source": [
    "small = data[:3, 36:]\n",
    "print('small is:')\n",
    "print(small)"
   ]
  },
  {
   "cell_type": "markdown",
   "metadata": {},
   "source": [
    "The above example selects rows 0 through 2 and columns 36 through to the end of the array."
   ]
  },
  {
   "cell_type": "markdown",
   "metadata": {},
   "source": [
    "Arrays also know how to perform common mathematical operations on their values.\n",
    "The simplest operations with data are arithmetic:\n",
    "add, subtract, multiply, and divide.\n",
    " When you do such operations on arrays,\n",
    "the operation is done on each individual element of the array.\n",
    "Thus:"
   ]
  },
  {
   "cell_type": "code",
   "execution_count": null,
   "metadata": {
    "attributes": {
     "classes": [
      " {.python"
     ],
     "id": ""
    },
    "collapsed": true,
    "scrolled": false
   },
   "outputs": [],
   "source": [
    "doubledata = data * 2.0"
   ]
  },
  {
   "cell_type": "markdown",
   "metadata": {},
   "source": [
    "will create a new array `doubledata`\n",
    "whose elements have the value of two times the value of the corresponding elements in `data`:"
   ]
  },
  {
   "cell_type": "code",
   "execution_count": null,
   "metadata": {
    "attributes": {
     "classes": [
      " {.python"
     ],
     "id": ""
    },
    "scrolled": false
   },
   "outputs": [],
   "source": [
    "print('original:')\n",
    "print(data[:3, 36:])\n",
    "print('doubledata:')\n",
    "print(doubledata[:3, 36:])"
   ]
  },
  {
   "cell_type": "markdown",
   "metadata": {},
   "source": [
    "If,\n",
    "instead of taking an array and doing arithmetic with a single value (as above)\n",
    "you did the arithmetic operation with another array of the same shape,\n",
    "the operation will be done on corresponding elements of the two arrays.\n",
    "Thus:"
   ]
  },
  {
   "cell_type": "code",
   "execution_count": null,
   "metadata": {
    "attributes": {
     "classes": [
      " {.python"
     ],
     "id": ""
    },
    "collapsed": true,
    "scrolled": false
   },
   "outputs": [],
   "source": [
    "tripledata = doubledata + data"
   ]
  },
  {
   "cell_type": "markdown",
   "metadata": {},
   "source": [
    "will give you an array where `tripledata[0,0]` will equal `doubledata[0,0]` plus `data[0,0]`,\n",
    "and so on for all other elements of the arrays."
   ]
  },
  {
   "cell_type": "code",
   "execution_count": null,
   "metadata": {
    "attributes": {
     "classes": [
      " {.python"
     ],
     "id": ""
    },
    "scrolled": false
   },
   "outputs": [],
   "source": [
    "print('tripledata:')\n",
    "print(tripledata[:3, 36:])"
   ]
  },
  {
   "cell_type": "markdown",
   "metadata": {},
   "source": [
    "Often, we want to do more than add, subtract, multiply, and divide values of data.\n",
    "Arrays also know how to do more complex operations on their values.\n",
    "If we want to find the average inflammation for all patients on all days,\n",
    "for example,\n",
    "we can just ask the array for its mean value"
   ]
  },
  {
   "cell_type": "code",
   "execution_count": null,
   "metadata": {
    "attributes": {
     "classes": [
      " {.python"
     ],
     "id": ""
    },
    "scrolled": false
   },
   "outputs": [],
   "source": [
    "print(data.mean())"
   ]
  },
  {
   "cell_type": "markdown",
   "metadata": {},
   "source": [
    "`mean` is a [method](http://swcarpentry.github.io/python-novice-inflammation/reference/#method) of the array,\n",
    "i.e.,\n",
    "a function that belongs to it\n",
    "in the same way that the member `shape` does.\n",
    "If variables are nouns, methods are verbs:\n",
    "they are what the thing in question knows how to do.\n",
    "We need empty parentheses for `data.mean()`,\n",
    "even when we're not passing in any parameters,\n",
    "to tell Python to go and do something for us. `data.shape` doesn't\n",
    "need `()` because it is just a description but `data.mean()` requires the `()`\n",
    "because it is an action.\n",
    "\n",
    "NumPy arrays have lots of useful methods:"
   ]
  },
  {
   "cell_type": "code",
   "execution_count": null,
   "metadata": {
    "attributes": {
     "classes": [
      " {.python"
     ],
     "id": ""
    },
    "scrolled": false
   },
   "outputs": [],
   "source": [
    "print('maximum inflammation:', data.max())\n",
    "print('minimum inflammation:', data.min())\n",
    "print('standard deviation:', data.std())"
   ]
  },
  {
   "cell_type": "markdown",
   "metadata": {},
   "source": [
    "## Mystery Functions in IPython\n",
    "How did we know what functions NumPy has and how to use them? If you are working in the IPython/Jupyter Notebook, there is an easy way to find out. If you type the name of something followed by a dot, then you can use tab completion (e.g. type `numpy`. and then press tab) to see a list of all functions and attributes that you can use. After selecting one, you can also add a question mark (e.g. `numpy.cumprod?`), and IPython will return an explanation of the method! This is the same as doing `help(numpy.cumprod)`."
   ]
  },
  {
   "cell_type": "code",
   "execution_count": 34,
   "metadata": {},
   "outputs": [],
   "source": [
    "numpy.cumprod?"
   ]
  },
  {
   "cell_type": "markdown",
   "metadata": {},
   "source": [
    "When analyzing data,\n",
    "though,\n",
    "we often want to look at partial statistics,\n",
    "such as the maximum value per patient\n",
    "or the average value per day.\n",
    "One way to do this is to create a new temporary array of the data we want,\n",
    "then ask it to do the calculation:"
   ]
  },
  {
   "cell_type": "code",
   "execution_count": 35,
   "metadata": {
    "attributes": {
     "classes": [
      " {.python"
     ],
     "id": ""
    },
    "scrolled": false
   },
   "outputs": [
    {
     "name": "stdout",
     "output_type": "stream",
     "text": [
      "maximum inflammation for patient 0: 18.0\n"
     ]
    }
   ],
   "source": [
    "patient_0 = data[0, :] # 0 on the first axis, everything on the second\n",
    "print('maximum inflammation for patient 0:', patient_0.max())"
   ]
  },
  {
   "cell_type": "markdown",
   "metadata": {},
   "source": [
    "We don't actually need to store the row in a variable of its own.\n",
    "Instead, we can combine the selection and the method call:"
   ]
  },
  {
   "cell_type": "code",
   "execution_count": 36,
   "metadata": {
    "attributes": {
     "classes": [
      " {.python"
     ],
     "id": ""
    },
    "scrolled": false
   },
   "outputs": [
    {
     "name": "stdout",
     "output_type": "stream",
     "text": [
      "maximum inflammation for patient 2: 19.0\n"
     ]
    }
   ],
   "source": [
    "print('maximum inflammation for patient 2:', data[2, :].max())"
   ]
  },
  {
   "cell_type": "markdown",
   "metadata": {},
   "source": [
    "What if we need the maximum inflammation for *all* patients (as in the\n",
    "next diagram on the left), or the average for each day (as in the\n",
    "diagram on the right)? As the diagram below shows, we want to perform the\n",
    "operation across an axis:\n",
    "\n",
    "![Operations Across Axes](fig/python-operations-across-axes.png)\n",
    "\n",
    "To support this,\n",
    "most array methods allow us to specify the axis we want to work on.\n",
    "If we ask for the average across axis 0 (rows in our 2D example),\n",
    "we get:"
   ]
  },
  {
   "cell_type": "code",
   "execution_count": null,
   "metadata": {
    "attributes": {
     "classes": [
      " {.python"
     ],
     "id": ""
    },
    "scrolled": false
   },
   "outputs": [],
   "source": [
    "data.mean(axis=0)"
   ]
  },
  {
   "cell_type": "markdown",
   "metadata": {},
   "source": [
    "As a quick check,\n",
    "we can ask this array what its shape is:"
   ]
  },
  {
   "cell_type": "code",
   "execution_count": null,
   "metadata": {
    "attributes": {
     "classes": [
      " {.python"
     ],
     "id": ""
    },
    "scrolled": false
   },
   "outputs": [],
   "source": [
    "data.mean(axis=0).shape"
   ]
  },
  {
   "cell_type": "markdown",
   "metadata": {},
   "source": [
    "The expression `(40,)` tells us we have an N&times;1 vector,\n",
    "so this is the average inflammation per day for all patients.\n",
    "If we average across axis 1 (columns in our 2D example), we get:"
   ]
  },
  {
   "cell_type": "code",
   "execution_count": null,
   "metadata": {
    "attributes": {
     "classes": [
      " {.python"
     ],
     "id": ""
    },
    "scrolled": false
   },
   "outputs": [],
   "source": [
    "data.mean(axis=1)"
   ]
  },
  {
   "cell_type": "markdown",
   "metadata": {},
   "source": [
    "which is the average inflammation per patient across all days."
   ]
  },
  {
   "cell_type": "markdown",
   "metadata": {},
   "source": [
    "## Visualizing data\n",
    "\n",
    "The mathematician Richard Hamming once said,\n",
    "\"The purpose of computing is insight, not numbers,\"\n",
    "and the best way to develop insight is often to visualize data.\n",
    "Visualization deserves an entire lecture (or course) of its own,\n",
    "but we can explore a few features of Python's `matplotlib` library here.\n",
    "While there is no \"official\" plotting library,\n",
    "this package is the de facto standard.\n",
    "First,\n",
    "we will import the `pyplot` module from `matplotlib`\n",
    "and use two of its functions to create and display a heat map of our data:"
   ]
  },
  {
   "cell_type": "code",
   "execution_count": 37,
   "metadata": {
    "attributes": {
     "classes": [
      " {.python"
     ],
     "id": ""
    },
    "scrolled": false
   },
   "outputs": [
    {
     "data": {
      "text/plain": [
       "<matplotlib.image.AxesImage at 0x7fababfda4e0>"
      ]
     },
     "execution_count": 37,
     "metadata": {},
     "output_type": "execute_result"
    },
    {
     "data": {
      "image/png": "[encoded data removed]",
      "text/plain": [
       "<Figure size 432x288 with 1 Axes>"
      ]
     },
     "metadata": {},
     "output_type": "display_data"
    }
   ],
   "source": [
    "%matplotlib inline\n",
    "import matplotlib.pyplot\n",
    "matplotlib.pyplot.imshow(data)"
   ]
  },
  {
   "cell_type": "markdown",
   "metadata": {},
   "source": [
    "Blue regions in this heat map are low values, while red shows high values.\n",
    "As we can see,\n",
    "inflammation rises and falls over a 40-day period.\n",
    "\n",
    "## Some IPython magic\n",
    "\n",
    "> If you're using an IPython / Jupyter notebook,\n",
    "> you'll need to execute the following command\n",
    "> in order for your matplotlib images to appear\n",
    "> in the notebook when `show()` is called:\n",
    ">\n",
    "> ~~~ {.python}\n",
    "> % matplotlib inline\n",
    "> ~~~\n",
    ">  \n",
    "> The `%` indicates an IPython magic function - \n",
    "> a function that is only valid within the notebook environment. \n",
    "> Note that you only have to execute this function once per notebook.\n",
    "\n",
    "Let's take a look at the average inflammation over time:"
   ]
  },
  {
   "cell_type": "code",
   "execution_count": null,
   "metadata": {
    "attributes": {
     "classes": [
      " {.python"
     ],
     "id": ""
    },
    "scrolled": false
   },
   "outputs": [],
   "source": [
    "ave_inflammation = data.mean(axis=0)\n",
    "matplotlib.pyplot.plot(ave_inflammation)"
   ]
  },
  {
   "cell_type": "markdown",
   "metadata": {},
   "source": [
    "Here,\n",
    "we have put the average per day across all patients in the variable `ave_inflammation`,\n",
    "then asked `matplotlib.pyplot` to create and display a line graph of those values.\n",
    "The result is roughly a linear rise and fall,\n",
    "which is suspicious:\n",
    "based on other studies,\n",
    "we expect a sharper rise and slower fall.\n",
    "Let's have a look at two other statistics:"
   ]
  },
  {
   "cell_type": "code",
   "execution_count": null,
   "metadata": {
    "attributes": {
     "classes": [
      " {.python"
     ],
     "id": ""
    },
    "scrolled": false
   },
   "outputs": [],
   "source": [
    "matplotlib.pyplot.plot(data.max(axis=0))"
   ]
  },
  {
   "cell_type": "code",
   "execution_count": null,
   "metadata": {
    "attributes": {
     "classes": [
      " {.python"
     ],
     "id": ""
    },
    "scrolled": false
   },
   "outputs": [],
   "source": [
    "matplotlib.pyplot.plot(data.min(axis=0))"
   ]
  },
  {
   "cell_type": "markdown",
   "metadata": {},
   "source": [
    "The maximum value rises and falls perfectly smoothly,\n",
    "while the minimum seems to be a step function.\n",
    "Neither result seems particularly likely,\n",
    "so either there's a mistake in our calculations\n",
    "or something is wrong with our data.\n",
    "\n",
    "## Grouping plots\n",
    "You can group similar plots in a single figure using subplots.\n",
    "This script below uses a number of new commands. The function `matplotlib.pyplot.figure()`\n",
    "creates a space into which we will place all of our plots. The parameter `figsize`\n",
    "tells Python how big to make this space. Each subplot is placed into the figure using\n",
    "the `subplot` command. The `subplot` command takes 3 parameters. The first denotes\n",
    "how many total rows of subplots there are, the second parameter refers to the\n",
    "total number of subplot columns, and the final parameters denotes which subplot\n",
    "your variable is referencing. Each subplot is stored in a different variable (axes1, axes2,\n",
    "axes3). Once a subplot is created, the axes are can be titled using the\n",
    "`set_xlabel()` command (or `set_ylabel()`).\n",
    "Here are our three plots side by side:"
   ]
  },
  {
   "cell_type": "code",
   "execution_count": 38,
   "metadata": {
    "attributes": {
     "classes": [
      " {.python"
     ],
     "id": ""
    },
    "scrolled": false
   },
   "outputs": [
    {
     "data": {
      "image/png": "[encoded data removed]",
      "text/plain": [
       "<Figure size 720x216 with 3 Axes>"
      ]
     },
     "metadata": {},
     "output_type": "display_data"
    }
   ],
   "source": [
    "import numpy\n",
    "import matplotlib.pyplot\n",
    "\n",
    "data = numpy.loadtxt(fname='data/inflammation-01.csv', delimiter=',')\n",
    "\n",
    "fig = matplotlib.pyplot.figure(figsize=(10.0, 3.0))\n",
    "\n",
    "axes1 = fig.add_subplot(1, 3, 1)\n",
    "axes2 = fig.add_subplot(1, 3, 2)\n",
    "axes3 = fig.add_subplot(1, 3, 3)\n",
    "\n",
    "axes1.set_ylabel('average')\n",
    "axes1.plot(data.mean(axis=0))\n",
    "\n",
    "axes2.set_ylabel('max')\n",
    "axes2.plot(data.max(axis=0))\n",
    "\n",
    "axes3.set_ylabel('min')\n",
    "axes3.plot(data.min(axis=0))\n",
    "\n",
    "fig.tight_layout()\n",
    "\n",
    "matplotlib.pyplot.show(fig)"
   ]
  },
  {
   "cell_type": "markdown",
   "metadata": {},
   "source": [
    "## Temprature Data\n",
    "\n",
    "Read the `/project2/env_bootcamp/small_csv/daily.csv` file which is the per-day average temprature of 56K+ points on the globe. Once you loaded the file into a NumPy array, please find simple statistics such as min, max, and mean of values and plot them using `pyplot`.  "
   ]
  },
  {
   "cell_type": "code",
   "execution_count": 2,
   "metadata": {},
   "outputs": [
    {
     "ename": "NameError",
     "evalue": "name 'np' is not defined",
     "output_type": "error",
     "traceback": [
      "\u001b[0;31m---------------------------------------------------------------------------\u001b[0m",
      "\u001b[0;31mNameError\u001b[0m                                 Traceback (most recent call last)",
      "\u001b[0;32m<ipython-input-2-7c627be83dc1>\u001b[0m in \u001b[0;36m<module>\u001b[0;34m()\u001b[0m\n\u001b[0;32m----> 1\u001b[0;31m \u001b[0mprc\u001b[0m\u001b[0;34m=\u001b[0m\u001b[0mnp\u001b[0m\u001b[0;34m.\u001b[0m\u001b[0mloadtxt\u001b[0m\u001b[0;34m(\u001b[0m\u001b[0;34m'/project2/env_bootcamp/small_csv/daily.csv'\u001b[0m\u001b[0;34m,\u001b[0m\u001b[0mdelimiter\u001b[0m\u001b[0;34m=\u001b[0m\u001b[0;34m','\u001b[0m\u001b[0;34m)\u001b[0m\u001b[0;34m\u001b[0m\u001b[0m\n\u001b[0m",
      "\u001b[0;31mNameError\u001b[0m: name 'np' is not defined"
     ]
    }
   ],
   "source": [
    "prc=np.loadtxt('/project2/env_bootcamp/small_csv/daily.csv',delimiter=',')"
   ]
  },
  {
   "cell_type": "code",
   "execution_count": null,
   "metadata": {},
   "outputs": [],
   "source": []
  },
  {
   "cell_type": "code",
   "execution_count": 91,
   "metadata": {},
   "outputs": [
    {
     "data": {
      "text/plain": [
       "array([225.34991699, 225.38720808, 225.44836157, ..., 250.96421985,\n",
       "       250.9648392 , 250.96540771])"
      ]
     },
     "execution_count": 91,
     "metadata": {},
     "output_type": "execute_result"
    }
   ],
   "source": [
    "prc.mean(axis=1)"
   ]
  },
  {
   "cell_type": "code",
   "execution_count": 93,
   "metadata": {},
   "outputs": [],
   "source": [
    "%matplotlib inline"
   ]
  },
  {
   "cell_type": "code",
   "execution_count": 95,
   "metadata": {},
   "outputs": [],
   "source": [
    "import matplotlib.pyplot as plt"
   ]
  },
  {
   "cell_type": "code",
   "execution_count": 107,
   "metadata": {},
   "outputs": [
    {
     "data": {
      "text/plain": [
       "[<matplotlib.lines.Line2D at 0x7faac10ebdd8>]"
      ]
     },
     "execution_count": 107,
     "metadata": {},
     "output_type": "execute_result"
    },
    {
     "data": {
      "image/png": "[encoded data removed]",
      "text/plain": [
       "<Figure size 432x288 with 1 Axes>"
      ]
     },
     "metadata": {},
     "output_type": "display_data"
    }
   ],
   "source": [
    "plt.plot((prc.mean(axis=1)-273)[:1000])"
   ]
  },
  {
   "cell_type": "code",
   "execution_count": 99,
   "metadata": {},
   "outputs": [
    {
     "data": {
      "text/plain": [
       "[<matplotlib.lines.Line2D at 0x7faac14a5a90>]"
      ]
     },
     "execution_count": 99,
     "metadata": {},
     "output_type": "execute_result"
    },
    {
     "data": {
      "image/png": "[encoded data removed]",
      "text/plain": [
       "<Figure size 432x288 with 1 Axes>"
      ]
     },
     "metadata": {},
     "output_type": "display_data"
    }
   ],
   "source": [
    "plt.plot(prc[1,:])"
   ]
  },
  {
   "cell_type": "markdown",
   "metadata": {},
   "source": [
    "The [call](http://swcarpentry.github.io/python-novice-inflammation/reference/#function-call) to `loadtxt` reads our data,\n",
    "and the rest of the program tells the plotting library\n",
    "how large we want the figure to be,\n",
    "that we're creating three sub-plots,\n",
    "what to draw for each one,\n",
    "and that we want a tight layout.\n",
    "(Perversely,\n",
    "if we leave out that call to `fig.tight_layout()`,\n",
    "the graphs will actually be squeezed together more closely.)"
   ]
  },
  {
   "cell_type": "markdown",
   "metadata": {},
   "source": [
    "## Scientists dislike typing\n",
    "\n",
    "We will always use the syntax `import numpy` to import NumPy.\n",
    "However, in order to save typing, it is\n",
    "[often suggested](http://www.scipy.org/getting-started.html#an-example-script)\n",
    "to make a shortcut like so: `import numpy as np`.\n",
    "If you ever see Python code online using a NumPy function with `np`\n",
    "(for example, `np.loadtxt(...)`), it's because they've used this shortcut."
   ]
  },
  {
   "cell_type": "markdown",
   "metadata": {},
   "source": [
    "## Check your understanding\n",
    "\n",
    "> Draw diagrams showing what variables refer to what values after each statement in the following program:\n",
    ">\n",
    "> ~~~ {.python}\n",
    "> mass = 47.5\n",
    "> age = 122\n",
    "> mass = mass * 2.0\n",
    "> age = age - 20\n",
    "> ~~~"
   ]
  },
  {
   "cell_type": "markdown",
   "metadata": {},
   "source": [
    "## Sorting out references\n",
    "\n",
    "> What does the following program print out?\n",
    ">\n",
    "> ~~~ {.python}\n",
    "> first, second = 'Grace', 'Hopper'\n",
    "> third, fourth = second, first\n",
    "> print(third, fourth)\n",
    "> ~~~"
   ]
  },
  {
   "cell_type": "markdown",
   "metadata": {},
   "source": [
    "## Slicing strings\n",
    "\n",
    "> A section of an array is called a [slice](http://swcarpentry.github.io/python-novice-inflammation/reference/#slice).\n",
    "> We can take slices of character strings as well:\n",
    ">\n",
    "> ~~~ {.python}\n",
    "> element = 'oxygen'\n",
    "> print 'first three characters:', element[0:3]\n",
    "> print 'last three characters:', element[3:6]\n",
    "> ~~~\n",
    ">\n",
    "> ~~~ {.output}\n",
    "> first three characters: oxy\n",
    "> last three characters: gen\n",
    "> ~~~\n",
    ">\n",
    "> What is the value of `element[:4]`?\n",
    "> What about `element[4:]`?\n",
    "> Or `element[:]`?\n",
    ">\n",
    "> What is `element[-1]`?\n",
    "> What is `element[-2]`?\n",
    "> Given those answers,\n",
    "> explain what `element[1:-1]` does."
   ]
  },
  {
   "cell_type": "markdown",
   "metadata": {},
   "source": [
    "## Thin slices\n",
    "\n",
    "> The expression `element[3:3]` produces an [empty string](http://swcarpentry.github.io/python-novice-inflammation/reference/#empty-string),\n",
    "> i.e., a string that contains no characters.\n",
    "> If `data` holds our array of patient data,\n",
    "> what does `data[3:3, 4:4]` produce?\n",
    "> What about `data[3:3, :]`?"
   ]
  },
  {
   "cell_type": "markdown",
   "metadata": {},
   "source": [
    "## Check your understanding: plot scaling\n",
    "\n",
    "> Why do all of our plots stop just short of the upper end of our graph?\n",
    "\n",
    "If we want to change this, we can use the `set_ylim(min, max)` method of each 'axes', for example:\n",
    "\n",
    "```Python\n",
    "axes3.set_ylim(0,6)\n",
    "```\n",
    "> Update your plotting code to automatically set a more appropriate scale. (Hint: you can make use of the `max` and `min` methods to help.)"
   ]
  },
  {
   "cell_type": "code",
   "execution_count": 6,
   "metadata": {},
   "outputs": [
    {
     "data": {
      "text/plain": [
       "(0.0, 5.5)"
      ]
     },
     "execution_count": 6,
     "metadata": {},
     "output_type": "execute_result"
    }
   ],
   "source": [
    "min_data = data.min(axis=0)\n",
    "axes3.set_ylabel('min')\n",
    "axes3.plot(min_data)\n",
    "axes3.set_ylim(numpy.min(min_data), numpy.max(min_data) * 1.1)"
   ]
  },
  {
   "cell_type": "markdown",
   "metadata": {},
   "source": [
    "## Check your understanding: drawing straight lines\n",
    "\n",
    "> Why are the vertical lines in our plot of the minimum inflammation per day not perfectly vertical?\n",
    "\n",
    "Because matplotlib interpolates (draws a straight line) between the points. One way to do avoid this is to use the Matplotlib `drawstyle` option:"
   ]
  },
  {
   "cell_type": "code",
   "execution_count": 7,
   "metadata": {},
   "outputs": [
    {
     "data": {
      "image/png": "[encoded data removed]",
      "text/plain": [
       "<Figure size 720x216 with 3 Axes>"
      ]
     },
     "metadata": {},
     "output_type": "display_data"
    }
   ],
   "source": [
    "import numpy\n",
    "import matplotlib.pyplot\n",
    "\n",
    "data = numpy.loadtxt(fname='data/inflammation-01.csv', delimiter=',')\n",
    "\n",
    "fig = matplotlib.pyplot.figure(figsize=(10.0, 3.0))\n",
    "\n",
    "axes1 = fig.add_subplot(1, 3, 1)\n",
    "axes2 = fig.add_subplot(1, 3, 2)\n",
    "axes3 = fig.add_subplot(1, 3, 3)\n",
    "\n",
    "axes1.set_ylabel('average')\n",
    "axes1.plot(data.mean(axis=0),drawstyle='steps-mid')\n",
    "\n",
    "axes2.set_ylabel('max')\n",
    "axes2.plot(data.max(axis=0),drawstyle='steps-mid')\n",
    "\n",
    "axes3.set_ylabel('min')\n",
    "axes3.plot(data.min(axis=0),drawstyle='steps-mid')\n",
    "\n",
    "fig.tight_layout()\n",
    "\n",
    "matplotlib.pyplot.show(fig)"
   ]
  },
  {
   "cell_type": "markdown",
   "metadata": {},
   "source": [
    "## Make your own plot\n",
    "\n",
    "> Create a plot showing the standard deviation (`numpy.std`) of the inflammation data for each day across all patients.\n",
    "\n",
    "```Python\n",
    "std_plot = matplotlib.pyplot.plot(data.std(axis=0))\n",
    "matplotlib.pyplot.show()\n",
    "```"
   ]
  },
  {
   "cell_type": "markdown",
   "metadata": {},
   "source": [
    "## Moving plots around\n",
    "\n",
    "> Modify the program to display the three plots on top of one another instead of side by side."
   ]
  },
  {
   "cell_type": "code",
   "execution_count": 4,
   "metadata": {},
   "outputs": [
    {
     "data": {
      "image/png": "[encoded data removed]",
      "text/plain": [
       "<Figure size 216x720 with 3 Axes>"
      ]
     },
     "metadata": {},
     "output_type": "display_data"
    }
   ],
   "source": [
    "import numpy\n",
    "import matplotlib.pyplot\n",
    "\n",
    "data = numpy.loadtxt(fname='data/inflammation-01.csv', delimiter=',')\n",
    "\n",
    "# change figsize (swap width and height)\n",
    "fig = matplotlib.pyplot.figure(figsize=(3.0, 10.0))\n",
    "\n",
    "# change add_subplot (swap first two parameters)\n",
    "axes1 = fig.add_subplot(3, 1, 1)\n",
    "axes2 = fig.add_subplot(3, 1, 2)\n",
    "axes3 = fig.add_subplot(3, 1, 3)\n",
    "\n",
    "axes1.set_ylabel('average')\n",
    "axes1.plot(data.mean(axis=0))\n",
    "\n",
    "axes2.set_ylabel('max')\n",
    "axes2.plot(data.max(axis=0))\n",
    "\n",
    "axes3.set_ylabel('min')\n",
    "axes3.plot(data.min(axis=0))\n",
    "\n",
    "fig.tight_layout()\n",
    "\n",
    "matplotlib.pyplot.show()"
   ]
  },
  {
   "cell_type": "markdown",
   "metadata": {},
   "source": [
    "## Stacking Arrays\n",
    "\n",
    "Arrays can be concatenated and stacked on top of one another, using NumPy’s vstack and hstack functions for vertical and horizontal stacking, respectively."
   ]
  },
  {
   "cell_type": "code",
   "execution_count": 8,
   "metadata": {},
   "outputs": [
    {
     "name": "stdout",
     "output_type": "stream",
     "text": [
      "A = \n",
      "[[1 2 3]\n",
      " [4 5 6]\n",
      " [7 8 9]]\n",
      "B = \n",
      "[[1 2 3 1 2 3]\n",
      " [4 5 6 4 5 6]\n",
      " [7 8 9 7 8 9]]\n",
      "C = \n",
      "[[1 2 3]\n",
      " [4 5 6]\n",
      " [7 8 9]\n",
      " [1 2 3]\n",
      " [4 5 6]\n",
      " [7 8 9]]\n"
     ]
    }
   ],
   "source": [
    "import numpy\n",
    "\n",
    "A = numpy.array([[1,2,3], [4,5,6], [7, 8, 9]])\n",
    "print('A = ')\n",
    "print(A)\n",
    "\n",
    "B = numpy.hstack([A, A])\n",
    "print('B = ')\n",
    "print(B)\n",
    "\n",
    "C = numpy.vstack([A, A])\n",
    "print('C = ')\n",
    "print(C)"
   ]
  },
  {
   "cell_type": "markdown",
   "metadata": {},
   "source": [
    "Write some additional code that slices the first and last columns of A, and stacks them into a 3x2 array. Make sure to print the results to verify your solution."
   ]
  },
  {
   "cell_type": "markdown",
   "metadata": {},
   "source": [
    "A ‘gotcha’ with array indexing is that singleton dimensions are dropped by default. That means `A[:, 0]` is a one dimensional array, which won’t stack as desired. To preserve singleton dimensions, the index itself can be a slice or array. For example, `A[:, :1]` returns a two dimensional array with one singleton dimension (i.e. a column vector)."
   ]
  },
  {
   "cell_type": "code",
   "execution_count": 9,
   "metadata": {},
   "outputs": [
    {
     "name": "stdout",
     "output_type": "stream",
     "text": [
      "D = \n",
      "[[1 3]\n",
      " [4 6]\n",
      " [7 9]]\n"
     ]
    }
   ],
   "source": [
    "D = numpy.hstack((A[:, :1], A[:, -1:]))\n",
    "print('D = ')\n",
    "print(D)"
   ]
  },
  {
   "cell_type": "markdown",
   "metadata": {},
   "source": [
    "An alternative way to achieve the same result is to use Numpy’s delete function to remove the second column of A."
   ]
  },
  {
   "cell_type": "code",
   "execution_count": 10,
   "metadata": {},
   "outputs": [
    {
     "name": "stdout",
     "output_type": "stream",
     "text": [
      "D = \n",
      "[[1 3]\n",
      " [4 6]\n",
      " [7 9]]\n"
     ]
    }
   ],
   "source": [
    "D = numpy.delete(A, 1, 1)\n",
    "print('D = ')\n",
    "print(D)"
   ]
  },
  {
   "cell_type": "markdown",
   "metadata": {},
   "source": [
    "## Change In Inflammation\n",
    "\n",
    "This patient data is longitudinal in the sense that each row represents a series of observations relating to one individual. This means that the change in inflammation over time is a meaningful concept.\n",
    "\n",
    "The `numpy.diff()` function takes a NumPy array and returns the differences between two successive values along a specified axis. For example, a NumPy array that looks like this:"
   ]
  },
  {
   "cell_type": "code",
   "execution_count": 11,
   "metadata": {},
   "outputs": [],
   "source": [
    "npdiff = numpy.array([ 0,  2,  5,  9, 14])"
   ]
  },
  {
   "cell_type": "markdown",
   "metadata": {},
   "source": [
    "Calling `numpy.diff(npdiff)` would do the following calculations and put the answers in another array."
   ]
  },
  {
   "cell_type": "code",
   "execution_count": 12,
   "metadata": {},
   "outputs": [
    {
     "data": {
      "text/plain": [
       "[2, 3, 4, 5]"
      ]
     },
     "execution_count": 12,
     "metadata": {},
     "output_type": "execute_result"
    }
   ],
   "source": [
    "[ 2 - 0, 5 - 2, 9 - 5, 14 - 9 ]"
   ]
  },
  {
   "cell_type": "code",
   "execution_count": 13,
   "metadata": {},
   "outputs": [
    {
     "data": {
      "text/plain": [
       "array([2, 3, 4, 5])"
      ]
     },
     "execution_count": 13,
     "metadata": {},
     "output_type": "execute_result"
    }
   ],
   "source": [
    "numpy.diff(npdiff)"
   ]
  },
  {
   "cell_type": "markdown",
   "metadata": {},
   "source": [
    "> Which axis would it make sense to use this function along?"
   ]
  },
  {
   "cell_type": "markdown",
   "metadata": {},
   "source": [
    "Since the row axis (0) is patients, it does not make sense to get the difference between two arbitrary patients. The column axis (1) is in days, so the difference is the change in inflammation – a meaningful concept."
   ]
  },
  {
   "cell_type": "code",
   "execution_count": 14,
   "metadata": {},
   "outputs": [
    {
     "data": {
      "text/plain": [
       "array([[ 0.,  1.,  2., ...,  1., -3.,  0.],\n",
       "       [ 1.,  1., -1., ...,  0., -1.,  1.],\n",
       "       [ 1.,  0.,  2., ...,  0., -1.,  0.],\n",
       "       ...,\n",
       "       [ 1.,  0.,  0., ..., -1.,  0.,  0.],\n",
       "       [ 0.,  0.,  1., ..., -2.,  2., -2.],\n",
       "       [ 0.,  1., -1., ..., -2.,  0., -1.]])"
      ]
     },
     "execution_count": 14,
     "metadata": {},
     "output_type": "execute_result"
    }
   ],
   "source": [
    "numpy.diff(data, axis=1)"
   ]
  },
  {
   "cell_type": "markdown",
   "metadata": {},
   "source": [
    "> If the shape of an individual data file is `(60, 40)` (60 rows and 40 columns), what would the shape of the array be after you run the `diff()` function and why?\n"
   ]
  },
  {
   "cell_type": "markdown",
   "metadata": {},
   "source": [
    "The shape will be `(60, 39)` because there is one fewer difference between columns than there are columns in the data."
   ]
  },
  {
   "cell_type": "markdown",
   "metadata": {},
   "source": [
    "> How would you find the largest change in inflammation for each patient? Does it matter if the change in inflammation is an increase or a decrease?"
   ]
  },
  {
   "cell_type": "markdown",
   "metadata": {},
   "source": [
    "By using the numpy.max() function after you apply the numpy.diff() function, you will get the largest difference between days."
   ]
  },
  {
   "cell_type": "code",
   "execution_count": 16,
   "metadata": {},
   "outputs": [
    {
     "data": {
      "text/plain": [
       "array([ 7., 12., 11., 10., 11., 13., 10.,  8., 10., 10.,  7.,  7., 13.,\n",
       "        7., 10., 10.,  8., 10.,  9., 10., 13.,  7., 12.,  9., 12., 11.,\n",
       "       10., 10.,  7., 10., 11., 10.,  8., 11., 12., 10.,  9., 10., 13.,\n",
       "       10.,  7.,  7., 10., 13., 12.,  8.,  8., 10., 10.,  9.,  8., 13.,\n",
       "       10.,  7., 10.,  8., 12., 10.,  7., 12.])"
      ]
     },
     "execution_count": 16,
     "metadata": {},
     "output_type": "execute_result"
    }
   ],
   "source": [
    "numpy.max(numpy.diff(data, axis=1), axis=1)"
   ]
  },
  {
   "cell_type": "markdown",
   "metadata": {},
   "source": [
    "If inflammation values decrease along an axis, then the difference from one element to the next will be negative. If you are interested in the magnitude of the change and not the direction, the `numpy.absolute()` function will provide that.\n",
    "Notice the difference if you get the largest absolute difference between readings."
   ]
  },
  {
   "cell_type": "code",
   "execution_count": 17,
   "metadata": {},
   "outputs": [
    {
     "data": {
      "text/plain": [
       "array([12., 14., 11., 13., 11., 13., 10., 12., 10., 10., 10., 12., 13.,\n",
       "       10., 11., 10., 12., 13.,  9., 10., 13.,  9., 12.,  9., 12., 11.,\n",
       "       10., 13.,  9., 13., 11., 11.,  8., 11., 12., 13.,  9., 10., 13.,\n",
       "       11., 11., 13., 11., 13., 13., 10.,  9., 10., 10.,  9.,  9., 13.,\n",
       "       10.,  9., 10., 11., 13., 10., 10., 12.])"
      ]
     },
     "execution_count": 17,
     "metadata": {},
     "output_type": "execute_result"
    }
   ],
   "source": [
    "numpy.max(numpy.absolute(numpy.diff(data, axis=1)), axis=1)"
   ]
  },
  {
   "cell_type": "markdown",
   "metadata": {},
   "source": [
    "## Key Points\n",
    "* Import a library into a program using import libraryname.\n",
    "* Use the numpy library to work with arrays in Python.\n",
    "* Use variable = value to assign a value to a variable in order to record it in memory.\n",
    "* Variables are created on demand whenever a value is assigned to them.\n",
    "* Use print(something) to display the value of something.\n",
    "* The expression array.shape gives the shape of an array.\n",
    "* Use array[x, y] to select a single element from a 2D array.\n",
    "* Array indices start at 0, not 1.\n",
    "* Use low:high to specify a slice that includes the indices from low to high-1.\n",
    "* All the indexing and slicing that works on arrays also works on strings.\n",
    "* Use # some kind of explanation to add comments to programs.\n",
    "* Use numpy.mean(array), numpy.max(array), and numpy.min(array) to calculate simple statistics.\n",
    "* Use numpy.mean(array, axis=0) or numpy.mean(array, axis=1) to calculate statistics across the specified axis.\n",
    "* Use the pyplot library from matplotlib for creating simple visualizations."
   ]
  },
  {
   "cell_type": "code",
   "execution_count": null,
   "metadata": {},
   "outputs": [],
   "source": []
  }
 ],
 "metadata": {
  "kernelspec": {
   "display_name": "Python 3",
   "language": "python",
   "name": "python3"
  },
  "language_info": {
   "codemirror_mode": {
    "name": "ipython",
    "version": 3
   },
   "file_extension": ".py",
   "mimetype": "text/x-python",
   "name": "python",
   "nbconvert_exporter": "python",
   "pygments_lexer": "ipython3",
   "version": "3.5.2"
  }
 },
 "nbformat": 4,
 "nbformat_minor": 1
}
