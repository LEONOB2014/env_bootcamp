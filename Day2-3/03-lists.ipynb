{
 "cells": [
  {
   "cell_type": "markdown",
   "metadata": {},
   "source": [
    "# Storing Multiple Values in Lists\n",
    "\n",
    "## Learning Objectives {.objectives}\n",
    "\n",
    "*   Explain what a list is.\n",
    "*   Create and index lists of simple values.\n",
    "\n",
    "Just as a `for` loop is a way to do operations many times,\n",
    "a list is a way to store many values.\n",
    "Unlike NumPy arrays,\n",
    "lists are built into the language (so we don't have to load a library\n",
    "to use them).\n",
    "We create a list by putting values inside square brackets:"
   ]
  },
  {
   "cell_type": "code",
   "execution_count": null,
   "metadata": {
    "attributes": {
     "classes": [
      " {.python"
     ],
     "id": ""
    }
   },
   "outputs": [],
   "source": [
    "odds = [1, 3, 5, 7]\n",
    "print('odds are:', odds)"
   ]
  },
  {
   "cell_type": "markdown",
   "metadata": {},
   "source": [
    "We select individual elements from lists by indexing them:"
   ]
  },
  {
   "cell_type": "code",
   "execution_count": null,
   "metadata": {
    "attributes": {
     "classes": [
      " {.python"
     ],
     "id": ""
    }
   },
   "outputs": [],
   "source": [
    "print('first and last:', odds[0], odds[-1])"
   ]
  },
  {
   "cell_type": "markdown",
   "metadata": {},
   "source": [
    "and if we loop over a list,\n",
    "the loop variable is assigned elements one at a time:"
   ]
  },
  {
   "cell_type": "code",
   "execution_count": null,
   "metadata": {
    "attributes": {
     "classes": [
      " {.python"
     ],
     "id": ""
    }
   },
   "outputs": [],
   "source": [
    "for number in odds:\n",
    "    print(number)"
   ]
  },
  {
   "cell_type": "code",
   "execution_count": null,
   "metadata": {},
   "outputs": [],
   "source": [
    "word='tin'\n",
    "for char in word:\n",
    "    print(char)"
   ]
  },
  {
   "cell_type": "markdown",
   "metadata": {},
   "source": [
    "There is one important difference between lists and strings:\n",
    "we can change the values in a list,\n",
    "but we cannot change the characters in a string.\n",
    "For example, this works:"
   ]
  },
  {
   "cell_type": "code",
   "execution_count": null,
   "metadata": {
    "attributes": {
     "classes": [
      " {.python"
     ],
     "id": ""
    }
   },
   "outputs": [],
   "source": [
    "names = ['Newton', 'Darwing', 'Turing'] # typo in Darwin's name\n",
    "print('names is originally:', names)\n",
    "names[1] = 'Darwin' # correct the name\n",
    "print('final value of names:', names)"
   ]
  },
  {
   "cell_type": "markdown",
   "metadata": {},
   "source": [
    "But this does not:"
   ]
  },
  {
   "cell_type": "code",
   "execution_count": null,
   "metadata": {
    "attributes": {
     "classes": [
      " {.python"
     ],
     "id": ""
    }
   },
   "outputs": [],
   "source": [
    "name = 'Bell'\n",
    "name = 'bell'"
   ]
  },
  {
   "cell_type": "markdown",
   "metadata": {},
   "source": [
    "## Ch-Ch-Ch-Changes\n",
    "\n",
    "> Data that can be changed is called [mutable](http://swcarpentry.github.io/python-novice-inflammation/reference/#mutable),\n",
    "> while data that cannot be changed is called [immutable](http://swcarpentry.github.io/python-novice-inflammation/reference/#immutable).\n",
    "> Strings and numbers are immutable. This does not mean that variables with string or number values are constants, but when we want to change the value of a string or number variable, we can only replace the old value with a completely new value.\n",
    "Lists and arrays, on the other hand, are mutable: we can modify them after they have been created. We can change individual elements, append new elements, or reorder the whole list. For some operations, like sorting, we can choose whether to use a function that modifies the data in-place or a function that returns a modified copy and leaves the original unchanged.\n",
    "Be careful when modifying data in-place. If two variables refer to the same list, and you modify the list value, it will change for both variables!"
   ]
  },
  {
   "cell_type": "code",
   "execution_count": null,
   "metadata": {},
   "outputs": [],
   "source": [
    "salsa = ['peppers', 'onions', 'cilantro', 'tomatoes']\n",
    "my_salsa = list(salsa)        # <-- my_salsa and salsa point to the *same* list data in memory\n",
    "salsa[0] = 'hot peppers'\n",
    "print('Ingredients in my salsa:', my_salsa)"
   ]
  },
  {
   "cell_type": "code",
   "execution_count": null,
   "metadata": {},
   "outputs": [],
   "source": [
    "import numpy as np\n",
    "data=np.loadtxt('data/inflammation-01.csv',delimiter=',')"
   ]
  },
  {
   "cell_type": "code",
   "execution_count": null,
   "metadata": {},
   "outputs": [],
   "source": [
    "new_data=data"
   ]
  },
  {
   "cell_type": "code",
   "execution_count": null,
   "metadata": {},
   "outputs": [],
   "source": [
    "data[0][0]=100"
   ]
  },
  {
   "cell_type": "code",
   "execution_count": null,
   "metadata": {},
   "outputs": [],
   "source": [
    "print(new_data)"
   ]
  },
  {
   "cell_type": "markdown",
   "metadata": {},
   "source": [
    "Because of pitfalls like this, code which modifies data in place can be more difficult to understand. However, it is often far more efficient to modify a large data structure in place than to create a modified copy for every small change. You should consider both of these aspects when writing your code."
   ]
  },
  {
   "cell_type": "code",
   "execution_count": null,
   "metadata": {},
   "outputs": [],
   "source": []
  },
  {
   "cell_type": "markdown",
   "metadata": {},
   "source": [
    "## Nested Lists\n",
    "Since lists can contain any Python variable, it can even contain other lists.\n",
    "For example, we could represent the products in the shelves of a small grocery shop:"
   ]
  },
  {
   "cell_type": "code",
   "execution_count": null,
   "metadata": {},
   "outputs": [],
   "source": [
    "x = [['pepper', 'zucchini', 'onion'],\n",
    "     ['cabbage', 'lettuce', 'garlic'],\n",
    "     ['apple', 'pear', 'banana']]"
   ]
  },
  {
   "cell_type": "markdown",
   "metadata": {},
   "source": [
    "Here is a visual example of how indexing a list of lists `x` works:\n",
    "![List Indexing](fig/indexing_lists_python.png)\n",
    "Using the previously declared list x, these would be the results of the index operations shown in the image:"
   ]
  },
  {
   "cell_type": "code",
   "execution_count": null,
   "metadata": {},
   "outputs": [],
   "source": [
    "print([x[0]])"
   ]
  },
  {
   "cell_type": "code",
   "execution_count": null,
   "metadata": {},
   "outputs": [],
   "source": [
    "print(x[0])"
   ]
  },
  {
   "cell_type": "code",
   "execution_count": null,
   "metadata": {},
   "outputs": [],
   "source": [
    "print(x[0][0])"
   ]
  },
  {
   "cell_type": "markdown",
   "metadata": {},
   "source": [
    "Thanks to [Hadley Wickham](https://twitter.com/hadleywickham/status/643381054758363136) for the image above."
   ]
  },
  {
   "cell_type": "markdown",
   "metadata": {},
   "source": [
    "## Heterogeneous Lists\n",
    "Lists in Python can contain elements of different types. Example:"
   ]
  },
  {
   "cell_type": "code",
   "execution_count": null,
   "metadata": {},
   "outputs": [],
   "source": [
    "sample_ages = [10, 12.5, 'Unknown']"
   ]
  },
  {
   "cell_type": "markdown",
   "metadata": {},
   "source": [
    "There are many ways to change the contents of lists besides assigning new values to\n",
    "individual elements:"
   ]
  },
  {
   "cell_type": "code",
   "execution_count": null,
   "metadata": {
    "attributes": {
     "classes": [
      " {.python"
     ],
     "id": ""
    }
   },
   "outputs": [],
   "source": [
    "odds.append(11)\n",
    "print('odds after adding a value:', odds)"
   ]
  },
  {
   "cell_type": "code",
   "execution_count": null,
   "metadata": {
    "attributes": {
     "classes": [
      " {.python"
     ],
     "id": ""
    }
   },
   "outputs": [],
   "source": [
    "del odds[0]\n",
    "print('odds after removing the first element:', odds)"
   ]
  },
  {
   "cell_type": "code",
   "execution_count": null,
   "metadata": {
    "attributes": {
     "classes": [
      " {.python"
     ],
     "id": ""
    }
   },
   "outputs": [],
   "source": [
    "odds.reverse()\n",
    "print('odds after reversing:', odds)"
   ]
  },
  {
   "cell_type": "markdown",
   "metadata": {},
   "source": [
    "While modifying in place, it is useful to remember that Python treats lists in a slightly counter-intuitive way.\n",
    "\n",
    "If we make a list and (attempt to) copy it then modify in place, we can cause all sorts of trouble:"
   ]
  },
  {
   "cell_type": "code",
   "execution_count": null,
   "metadata": {},
   "outputs": [],
   "source": [
    "odds = [1, 3, 5, 7]\n",
    "primes = odds\n",
    "primes.append(2)\n",
    "print('primes:', primes)\n",
    "print('odds:', odds)"
   ]
  },
  {
   "cell_type": "markdown",
   "metadata": {},
   "source": [
    "This is because Python stores a list in memory, and then can use multiple names to refer to the same list. If all we want to do is copy a (simple) list, we can use the list function, so we do not modify a list we did not mean to:"
   ]
  },
  {
   "cell_type": "code",
   "execution_count": null,
   "metadata": {},
   "outputs": [],
   "source": [
    "odds = [1, 3, 5, 7]\n",
    "primes = list(odds)\n",
    "primes.append(2)\n",
    "print('primes:', primes)\n",
    "print('odds:', odds)"
   ]
  },
  {
   "cell_type": "markdown",
   "metadata": {},
   "source": [
    "This is different from how variables worked in lesson 1, and more similar to how a spreadsheet works."
   ]
  },
  {
   "cell_type": "markdown",
   "metadata": {},
   "source": [
    "> ## Turn a String Into a List\n",
    "Use a for-loop to convert the string “hello” into a list of letters:"
   ]
  },
  {
   "cell_type": "code",
   "execution_count": null,
   "metadata": {},
   "outputs": [],
   "source": [
    "[\"h\", \"e\", \"l\", \"l\", \"o\"]"
   ]
  },
  {
   "cell_type": "code",
   "execution_count": null,
   "metadata": {},
   "outputs": [],
   "source": [
    "my_list = []\n",
    "for char in \"hello\":\n",
    "    my_list.append(char)\n",
    "print(my_list)"
   ]
  },
  {
   "cell_type": "markdown",
   "metadata": {},
   "source": [
    "Subsets of lists and strings can be accessed by specifying ranges of values in brackets, similar to how we accessed ranges of positions in a NumPy array. This is commonly referred to as “slicing” the list/string."
   ]
  },
  {
   "cell_type": "code",
   "execution_count": null,
   "metadata": {},
   "outputs": [],
   "source": [
    "binomial_name = \"Drosophila melanogaster\"\n",
    "group = binomial_name[0:10]\n",
    "print(\"group:\", group)\n",
    "\n",
    "species = binomial_name[11:24]\n",
    "print(\"species:\", species)\n",
    "\n",
    "chromosomes = [\"X\", \"Y\", \"2\", \"3\", \"4\"]\n",
    "autosomes = chromosomes[2:5]\n",
    "print(\"autosomes:\", autosomes)\n",
    "\n",
    "last = chromosomes[-1]\n",
    "print(\"last:\", last)"
   ]
  },
  {
   "cell_type": "markdown",
   "metadata": {},
   "source": [
    "> ## Slicing From the End\n",
    "Use slicing to access only the last four characters of a string or entries of a list.\n",
    "\n",
    "```Python\n",
    "string_for_slicing = \"Observation date: 02-Feb-2013\"\n",
    "list_for_slicing = [[\"fluorine\", \"F\"], [\"chlorine\", \"Cl\"], [\"bromine\", \"Br\"], [\"iodine\", \"I\"], [\"astatine\", \"At\"]]\n",
    "```\n",
    "Output\n",
    "```Python\n",
    "\"2013\"\n",
    "[[\"chlorine\", \"Cl\"], [\"bromine\", \"Br\"], [\"iodine\", \"I\"], [\"astatine\", \"At\"]]\n",
    "```"
   ]
  },
  {
   "cell_type": "code",
   "execution_count": null,
   "metadata": {},
   "outputs": [],
   "source": [
    "string_for_slicing[-4:]\n",
    "list_for_slicing[-4:]"
   ]
  },
  {
   "cell_type": "markdown",
   "metadata": {},
   "source": [
    "## Non-Continuous Slices\n",
    "So far we’ve seen how to use slicing to take single blocks of successive entries from a sequence. But what if we want to take a subset of entries that aren’t next to each other in the sequence?\n",
    "You can achieve this by providing a third argument to the range within the brackets, called the step size. The example below shows how you can take every third entry in a list:"
   ]
  },
  {
   "cell_type": "code",
   "execution_count": null,
   "metadata": {},
   "outputs": [],
   "source": [
    "primes = [2, 3, 5, 7, 11, 13, 17, 19, 23, 29, 31, 37]\n",
    "subset = primes[0:12:3]\n",
    "print(\"subset\", subset)"
   ]
  },
  {
   "cell_type": "markdown",
   "metadata": {},
   "source": [
    "Notice that the slice taken begins with the first entry in the range, followed by entries taken at equally-spaced intervals (the steps) thereafter. If you wanted to begin the subset with the third entry, you would need to specify that as the starting point of the sliced range:"
   ]
  },
  {
   "cell_type": "code",
   "execution_count": null,
   "metadata": {},
   "outputs": [],
   "source": [
    "primes = [2, 3, 5, 7, 11, 13, 17, 19, 23, 29, 31, 37]\n",
    "subset = primes[2:12:3]\n",
    "print(\"subset\", subset)"
   ]
  },
  {
   "cell_type": "markdown",
   "metadata": {},
   "source": [
    "> Use the step size argument to create a new string that contains only every other character in the string “In an octopus’s garden in the shade”\n",
    "\n",
    "> ```beatles = \"In an octopus's garden in the shade\"```\n",
    "\n",
    "> ```I notpssgre ntesae```"
   ]
  },
  {
   "cell_type": "markdown",
   "metadata": {},
   "source": [
    "If you want to take a slice from the beginning of a sequence, you can omit the first index in the range:"
   ]
  },
  {
   "cell_type": "code",
   "execution_count": null,
   "metadata": {},
   "outputs": [],
   "source": [
    "date = \"Monday 4 January 2016\"\n",
    "day = date[0:6]\n",
    "print(\"Using 0 to begin range:\", day)\n",
    "day = date[:6]\n",
    "print(\"Omitting beginning index:\", day)"
   ]
  },
  {
   "cell_type": "markdown",
   "metadata": {},
   "source": [
    "And similarly, you can omit the ending index in the range to take a slice to the very end of the sequence:"
   ]
  },
  {
   "cell_type": "code",
   "execution_count": null,
   "metadata": {},
   "outputs": [],
   "source": [
    "months = [\"jan\", \"feb\", \"mar\", \"apr\", \"may\", \"jun\", \"jul\", \"aug\", \"sep\", \"oct\", \"nov\", \"dec\"]\n",
    "sond = months[8:12]\n",
    "print(\"With known last position:\", sond)\n",
    "sond = months[8:len(months)]\n",
    "print(\"Using len() to get last entry:\", sond)\n",
    "sond = months[8:]\n",
    "print(\"Omitting ending index:\", sond)"
   ]
  },
  {
   "cell_type": "code",
   "execution_count": null,
   "metadata": {},
   "outputs": [],
   "source": [
    "[1,2,3]*4"
   ]
  },
  {
   "cell_type": "markdown",
   "metadata": {},
   "source": [
    "## Overloading"
   ]
  },
  {
   "cell_type": "markdown",
   "metadata": {},
   "source": [
    "`+` usually means addition, but when used on strings or lists, it means “concatenate”. Given that, what do you think the multiplication operator `*` does on lists? In particular, what will be the output of the following code?\n",
    "\n",
    "```Python\n",
    "counts = [2, 4, 6, 8, 10]\n",
    "repeats = counts * 2\n",
    "print(repeats)\n",
    "\n",
    "1. [2, 4, 6, 8, 10, 2, 4, 6, 8, 10]\n",
    "2. [4, 8, 12, 16, 20]\n",
    "3. [[2, 4, 6, 8, 10],[2, 4, 6, 8, 10]]\n",
    "4. [2, 4, 6, 8, 10, 4, 8, 12, 16, 20]\n",
    "```"
   ]
  },
  {
   "cell_type": "markdown",
   "metadata": {},
   "source": [
    "## Key Points\n",
    "* `[value1, value2, value3, ...]` creates a list.\n",
    "* Lists can contain any Python object, including lists (i.e., list of lists).\n",
    "* Lists are indexed and sliced with square brackets (e.g., list[0] and list[2:9]), in the same way as strings and arrays.\n",
    "* Lists are mutable (i.e., their values can be changed in place).\n",
    "* Strings are immutable (i.e., the characters in them cannot be changed)."
   ]
  },
  {
   "cell_type": "code",
   "execution_count": null,
   "metadata": {},
   "outputs": [],
   "source": []
  }
 ],
 "metadata": {
  "kernelspec": {
   "display_name": "Python 3",
   "language": "python",
   "name": "python3"
  },
  "language_info": {
   "codemirror_mode": {
    "name": "ipython",
    "version": 3
   },
   "file_extension": ".py",
   "mimetype": "text/x-python",
   "name": "python",
   "nbconvert_exporter": "python",
   "pygments_lexer": "ipython3",
   "version": "3.5.2"
  }
 },
 "nbformat": 4,
 "nbformat_minor": 1
}
