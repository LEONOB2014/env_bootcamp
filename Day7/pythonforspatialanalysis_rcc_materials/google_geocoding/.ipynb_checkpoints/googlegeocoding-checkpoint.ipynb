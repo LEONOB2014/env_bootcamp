{
 "cells": [
  {
   "cell_type": "code",
   "execution_count": null,
   "metadata": {},
   "outputs": [],
   "source": [
    "# Google Geocoder example\n",
    "#   script written by T.Schuble 2016\n",
    "#   modified by J.Tharsen 09-2018\n",
    "# \n",
    "# Outputs a CSV file with four fields:\n",
    "# City, State, Lat, Long\n",
    "\n",
    "import geocoder, csv, time\n",
    "\n",
    "inputfile = open(\"villages_1815.csv\", \"r\")  # read-only input\n",
    "\n",
    "outputfile = open(\"villages_1815_output.csv\", \"a\") # append mode for output\n",
    "outputfile.write(\"City, State, Lat, Long \\n\") # write CSV header row\n",
    "\n",
    "reader = csv.reader(inputfile)\n",
    "\n",
    "counter = 1\n",
    "recordnumber = 1\n",
    "\n",
    "for x in reader:\n",
    "# print (recordnumber)\n",
    "# print (counter)\n",
    "  if counter == 10:\n",
    "    time.sleep(2)\n",
    "    counter = 1\n",
    "  elif counter < 10:\n",
    "    x = str(x)[1:-1]\n",
    "# print (x)\n",
    "    g = geocoder.google(x)\n",
    "    gravy = g.latlng\n",
    "    print (str(recordnumber) + \" \" + str(x) + \" : \" + str(gravy))\n",
    "    # gravy = str(gravy)+ \"\\n\"\n",
    "    gravystr = str(gravy)\n",
    "    gravystr = gravystr.replace(\"[\",\"\")\n",
    "    gravystr = gravystr.replace(\"]\",\"\")\n",
    "    gravystr = str(x).replace(\"'\",\"\") + \", \" + gravystr + \"\\n\"\n",
    "    outputfile.write(gravystr)\n",
    "    counter = counter + 1\n",
    "  recordnumber = recordnumber + 1\n"
   ]
  }
 ],
 "metadata": {
  "kernelspec": {
   "display_name": "Python 3",
   "language": "python",
   "name": "python3"
  },
  "language_info": {
   "codemirror_mode": {
    "name": "ipython",
    "version": 3
   },
   "file_extension": ".py",
   "mimetype": "text/x-python",
   "name": "python",
   "nbconvert_exporter": "python",
   "pygments_lexer": "ipython3",
   "version": "3.6.5"
  }
 },
 "nbformat": 4,
 "nbformat_minor": 2
}
