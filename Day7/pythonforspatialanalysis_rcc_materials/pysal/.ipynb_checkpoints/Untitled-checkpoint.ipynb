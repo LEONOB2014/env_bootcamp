{
 "cells": [
  {
   "cell_type": "code",
   "execution_count": null,
   "metadata": {},
   "outputs": [],
   "source": [
    "import pysal\n",
    "import numpy as np\n",
    "\n",
    "f = pysal.open(pysal.examples.get_path(\"stl_hom.txt\"))\n",
    "\n",
    "y = np.array(f.by_col['HR8893'])\n",
    "\n",
    "w = pysal.open(pysal.examples.get_path(\"stl.gal\")).read()\n",
    "\n",
    "print (\"\\n\\n\")\n",
    "\n",
    "print (\"w = \" + str(w) + \"\\n\")  # print Weight object reference\n",
    "\n",
    "mi = pysal.Moran(y, w, two_tailed=False)\n",
    "\n",
    "print (\"%.3f\"%mi.I + \"\\n\") \n",
    "\n",
    "print (str(mi.EI) + \"\\n\")\n",
    "\n",
    "print (\"%.5f\"%mi.p_norm + \"\\n\")\n",
    "\n",
    "# print (help(mi))"
   ]
  }
 ],
 "metadata": {
  "kernelspec": {
   "display_name": "Python 3",
   "language": "python",
   "name": "python3"
  },
  "language_info": {
   "codemirror_mode": {
    "name": "ipython",
    "version": 3
   },
   "file_extension": ".py",
   "mimetype": "text/x-python",
   "name": "python",
   "nbconvert_exporter": "python",
   "pygments_lexer": "ipython3",
   "version": "3.6.5"
  }
 },
 "nbformat": 4,
 "nbformat_minor": 2
}
