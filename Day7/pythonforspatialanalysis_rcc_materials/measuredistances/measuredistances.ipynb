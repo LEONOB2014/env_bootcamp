{
 "cells": [
  {
   "cell_type": "code",
   "execution_count": 1,
   "metadata": {},
   "outputs": [
    {
     "name": "stdout",
     "output_type": "stream",
     "text": [
      "240.2026667795573\n"
     ]
    }
   ],
   "source": [
    "import math\n",
    "x1 = 456456.23123582301\n",
    "y1 = 1279721.064356426\n",
    "x2 = 576628.34295886324\n",
    "y2 = 1071740.3328161312\n",
    "x_dist = x1 - x2\n",
    "y_dist = y1 - y2\n",
    "dist_sq = x_dist**2 + y_dist**2\n",
    "distance = (math.sqrt(dist_sq))/1000\n",
    "print (distance)"
   ]
  },
  {
   "cell_type": "code",
   "execution_count": 2,
   "metadata": {},
   "outputs": [
    {
     "name": "stdout",
     "output_type": "stream",
     "text": [
      "0.0022614409068568053\n"
     ]
    }
   ],
   "source": [
    "import math\n",
    "x1 = -90.212452861859035\n",
    "y1 = 32.316272202663704\n",
    "x2 = -88.952170968942525\n",
    "y2 = 30.438559624660321\n",
    "x_dist = x1 - x2\n",
    "y_dist = y1 - y2\n",
    "dist_sq = x_dist**2 + y_dist**2\n",
    "distance = (math.sqrt(dist_sq))/1000\n",
    "print (distance)"
   ]
  },
  {
   "cell_type": "code",
   "execution_count": 3,
   "metadata": {},
   "outputs": [
    {
     "name": "stdout",
     "output_type": "stream",
     "text": [
      "240.6359762909508\n"
     ]
    }
   ],
   "source": [
    "import math\n",
    "x1 = -90.212452861859035\n",
    "y1 = 32.316272202663704\n",
    "x2 = -88.952170968942525\n",
    "y2 = 30.438559624660321\n",
    "x_dist = math.radians(x1 - x2)\n",
    "y_dist = math.radians(y1 - y2)\n",
    "y1_rad = math.radians(y1)\n",
    "y2_rad = math.radians(y2)\n",
    "a = math.sin(y_dist/2)**2 + math.sin(x_dist/2)**2 * math.cos(y1_rad) * math.cos(y2_rad)\n",
    "c = 2 * math.asin(math.sqrt(a))\n",
    "distance = c * 6371 #kilometers\n",
    "print (distance)"
   ]
  },
  {
   "cell_type": "code",
   "execution_count": null,
   "metadata": {},
   "outputs": [],
   "source": []
  }
 ],
 "metadata": {
  "kernelspec": {
   "display_name": "Python 3",
   "language": "python",
   "name": "python3"
  },
  "language_info": {
   "codemirror_mode": {
    "name": "ipython",
    "version": 3
   },
   "file_extension": ".py",
   "mimetype": "text/x-python",
   "name": "python",
   "nbconvert_exporter": "python",
   "pygments_lexer": "ipython3",
   "version": "3.6.5"
  }
 },
 "nbformat": 4,
 "nbformat_minor": 2
}
